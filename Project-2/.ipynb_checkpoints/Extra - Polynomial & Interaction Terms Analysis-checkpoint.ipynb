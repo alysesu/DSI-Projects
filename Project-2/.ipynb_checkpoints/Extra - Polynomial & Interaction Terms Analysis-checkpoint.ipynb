{
 "cells": [
  {
   "cell_type": "code",
   "execution_count": 1,
   "metadata": {},
   "outputs": [],
   "source": [
    "# standard imports\n",
    "import pandas as pd\n",
    "import numpy as np\n",
    "import matplotlib.pyplot as plt\n",
    "import seaborn as sns\n",
    "import scipy.stats as stats\n",
    "%matplotlib inline\n",
    "\n",
    "#Stylistic Choice:\n",
    "plt.style.use('bmh')\n",
    "sns.set_palette(\"RdBu_r\")\n",
    "\n",
    "# modeling imports\n",
    "from sklearn.linear_model import Ridge, Lasso, ElasticNet, LinearRegression, RidgeCV, LassoCV, ElasticNetCV\n",
    "from sklearn import metrics\n",
    "from sklearn.model_selection import train_test_split, cross_val_score,cross_val_predict\n",
    "from sklearn.preprocessing import StandardScaler, PolynomialFeatures\n",
    "from sklearn.metrics import mean_squared_error\n",
    "import statsmodels.api as sm\n",
    "# other imports\n",
    "import missingno as msno"
   ]
  },
  {
   "cell_type": "code",
   "execution_count": 2,
   "metadata": {},
   "outputs": [],
   "source": [
    "train = pd.read_csv('data/train_cleaned.csv')"
   ]
  },
  {
   "cell_type": "code",
   "execution_count": 3,
   "metadata": {},
   "outputs": [],
   "source": [
    "ordinal = ['extercond', 'bsmtcond', 'heatingqc', 'fireplacequ', 'garagequal',\n",
    "       'garagecond', 'bsmtexposure', 'bsmtfintype1', 'bsmtfintype2',\n",
    "       'garagefinish', 'fence', 'landslope', 'lotshape', 'overallqual',\n",
    "       'overallcond']\n",
    "numerical = ['lotarea', 'yearremod/add', 'masvnrarea', 'bsmtfinsf1', 'bsmtfinsf2',\n",
    "       'bsmtunfsf', '1stflrsf', '2ndflrsf', 'grlivarea', 'bsmtfullbath',\n",
    "       'bsmthalfbath', 'fullbath', 'halfbath', 'bedroomabvgr', 'kitchenabvgr',\n",
    "       'fireplaces', 'garagearea', 'wooddecksf', 'saleprice', 'houseage']\n",
    "nominal = ['mssubclass', 'mszoning', 'landcontour', 'lotconfig', 'neighborhood',\n",
    "       'condition1', 'bldgtype', 'housestyle', 'roofstyle', 'exterior2nd',\n",
    "       'masvnrtype', 'foundation', 'electrical', 'functional', 'garagetype',\n",
    "       'paveddrive', 'saletype', 'pool', 'centralair', 'porch']"
   ]
  },
  {
   "cell_type": "code",
   "execution_count": 4,
   "metadata": {},
   "outputs": [],
   "source": [
    "train_no = train[nominal]\n",
    "train_num = train[numerical]\n",
    "train_ord = train[ordinal]"
   ]
  },
  {
   "cell_type": "code",
   "execution_count": 5,
   "metadata": {},
   "outputs": [
    {
     "name": "stdout",
     "output_type": "stream",
     "text": [
      "<class 'pandas.core.frame.DataFrame'>\n",
      "RangeIndex: 2047 entries, 0 to 2046\n",
      "Data columns (total 56 columns):\n",
      " #   Column         Non-Null Count  Dtype  \n",
      "---  ------         --------------  -----  \n",
      " 0   id             2047 non-null   int64  \n",
      " 1   mssubclass     2047 non-null   int64  \n",
      " 2   mszoning       2047 non-null   object \n",
      " 3   lotarea        2047 non-null   int64  \n",
      " 4   lotshape       2047 non-null   int64  \n",
      " 5   landcontour    2047 non-null   object \n",
      " 6   lotconfig      2047 non-null   object \n",
      " 7   landslope      2047 non-null   int64  \n",
      " 8   neighborhood   2047 non-null   object \n",
      " 9   condition1     2047 non-null   int64  \n",
      " 10  bldgtype       2047 non-null   object \n",
      " 11  housestyle     2047 non-null   object \n",
      " 12  overallqual    2047 non-null   int64  \n",
      " 13  overallcond    2047 non-null   int64  \n",
      " 14  yearremod/add  2047 non-null   int64  \n",
      " 15  roofstyle      2047 non-null   object \n",
      " 16  exterior2nd    2047 non-null   int64  \n",
      " 17  masvnrtype     2047 non-null   object \n",
      " 18  masvnrarea     2047 non-null   float64\n",
      " 19  extercond      2047 non-null   int64  \n",
      " 20  foundation     2047 non-null   object \n",
      " 21  bsmtcond       2047 non-null   int64  \n",
      " 22  bsmtexposure   2047 non-null   int64  \n",
      " 23  bsmtfintype1   2047 non-null   int64  \n",
      " 24  bsmtfinsf1     2047 non-null   float64\n",
      " 25  bsmtfintype2   2047 non-null   int64  \n",
      " 26  bsmtfinsf2     2047 non-null   float64\n",
      " 27  bsmtunfsf      2047 non-null   float64\n",
      " 28  heatingqc      2047 non-null   int64  \n",
      " 29  centralair     2047 non-null   int64  \n",
      " 30  electrical     2047 non-null   int64  \n",
      " 31  1stflrsf       2047 non-null   int64  \n",
      " 32  2ndflrsf       2047 non-null   int64  \n",
      " 33  grlivarea      2047 non-null   int64  \n",
      " 34  bsmtfullbath   2047 non-null   float64\n",
      " 35  bsmthalfbath   2047 non-null   float64\n",
      " 36  fullbath       2047 non-null   int64  \n",
      " 37  halfbath       2047 non-null   int64  \n",
      " 38  bedroomabvgr   2047 non-null   int64  \n",
      " 39  kitchenabvgr   2047 non-null   int64  \n",
      " 40  functional     2047 non-null   object \n",
      " 41  fireplaces     2047 non-null   int64  \n",
      " 42  fireplacequ    2047 non-null   int64  \n",
      " 43  garagetype     1934 non-null   object \n",
      " 44  garagefinish   2047 non-null   int64  \n",
      " 45  garagearea     2047 non-null   float64\n",
      " 46  garagequal     2047 non-null   int64  \n",
      " 47  garagecond     2047 non-null   int64  \n",
      " 48  paveddrive     2047 non-null   object \n",
      " 49  wooddecksf     2047 non-null   int64  \n",
      " 50  fence          2047 non-null   int64  \n",
      " 51  saletype       2047 non-null   int64  \n",
      " 52  saleprice      2047 non-null   int64  \n",
      " 53  houseage       2047 non-null   float64\n",
      " 54  pool           2047 non-null   int64  \n",
      " 55  porch          2047 non-null   int64  \n",
      "dtypes: float64(8), int64(36), object(12)\n",
      "memory usage: 895.7+ KB\n"
     ]
    }
   ],
   "source": [
    "train.info()"
   ]
  },
  {
   "cell_type": "code",
   "execution_count": 6,
   "metadata": {},
   "outputs": [],
   "source": [
    "# Correcting for wrongly imported data:\n",
    "    # MSSubClass Datatype:\n",
    "train['mssubclass']=train['mssubclass'].astype(str)\n",
    "    # garagetype null values:\n",
    "train['garagetype'].fillna(value=\"NA\",inplace=True)"
   ]
  },
  {
   "cell_type": "code",
   "execution_count": 7,
   "metadata": {},
   "outputs": [
    {
     "data": {
      "text/plain": [
       "(2047, 86)"
      ]
     },
     "execution_count": 7,
     "metadata": {},
     "output_type": "execute_result"
    }
   ],
   "source": [
    "dummy = pd.get_dummies(train_no,drop_first=True)\n",
    "dummy.shape"
   ]
  },
  {
   "cell_type": "code",
   "execution_count": 8,
   "metadata": {},
   "outputs": [
    {
     "data": {
      "text/html": [
       "<div>\n",
       "<style scoped>\n",
       "    .dataframe tbody tr th:only-of-type {\n",
       "        vertical-align: middle;\n",
       "    }\n",
       "\n",
       "    .dataframe tbody tr th {\n",
       "        vertical-align: top;\n",
       "    }\n",
       "\n",
       "    .dataframe thead th {\n",
       "        text-align: right;\n",
       "    }\n",
       "</style>\n",
       "<table border=\"1\" class=\"dataframe\">\n",
       "  <thead>\n",
       "    <tr style=\"text-align: right;\">\n",
       "      <th></th>\n",
       "      <th>index</th>\n",
       "      <th>lotarea</th>\n",
       "      <th>yearremod/add</th>\n",
       "      <th>masvnrarea</th>\n",
       "      <th>bsmtfinsf1</th>\n",
       "      <th>bsmtfinsf2</th>\n",
       "      <th>bsmtunfsf</th>\n",
       "      <th>1stflrsf</th>\n",
       "      <th>2ndflrsf</th>\n",
       "      <th>grlivarea</th>\n",
       "      <th>...</th>\n",
       "      <th>functional_Sal</th>\n",
       "      <th>functional_Sev</th>\n",
       "      <th>functional_Typ</th>\n",
       "      <th>garagetype_Attchd</th>\n",
       "      <th>garagetype_Basment</th>\n",
       "      <th>garagetype_BuiltIn</th>\n",
       "      <th>garagetype_CarPort</th>\n",
       "      <th>garagetype_Detchd</th>\n",
       "      <th>paveddrive_P</th>\n",
       "      <th>paveddrive_Y</th>\n",
       "    </tr>\n",
       "  </thead>\n",
       "  <tbody>\n",
       "    <tr>\n",
       "      <th>0</th>\n",
       "      <td>0</td>\n",
       "      <td>13517</td>\n",
       "      <td>2005</td>\n",
       "      <td>289.0</td>\n",
       "      <td>533.0</td>\n",
       "      <td>0.0</td>\n",
       "      <td>192.0</td>\n",
       "      <td>725</td>\n",
       "      <td>754</td>\n",
       "      <td>1479</td>\n",
       "      <td>...</td>\n",
       "      <td>0</td>\n",
       "      <td>0</td>\n",
       "      <td>1</td>\n",
       "      <td>1</td>\n",
       "      <td>0</td>\n",
       "      <td>0</td>\n",
       "      <td>0</td>\n",
       "      <td>0</td>\n",
       "      <td>0</td>\n",
       "      <td>1</td>\n",
       "    </tr>\n",
       "    <tr>\n",
       "      <th>1</th>\n",
       "      <td>1</td>\n",
       "      <td>11492</td>\n",
       "      <td>1997</td>\n",
       "      <td>132.0</td>\n",
       "      <td>637.0</td>\n",
       "      <td>0.0</td>\n",
       "      <td>276.0</td>\n",
       "      <td>913</td>\n",
       "      <td>1209</td>\n",
       "      <td>2122</td>\n",
       "      <td>...</td>\n",
       "      <td>0</td>\n",
       "      <td>0</td>\n",
       "      <td>1</td>\n",
       "      <td>1</td>\n",
       "      <td>0</td>\n",
       "      <td>0</td>\n",
       "      <td>0</td>\n",
       "      <td>0</td>\n",
       "      <td>0</td>\n",
       "      <td>1</td>\n",
       "    </tr>\n",
       "    <tr>\n",
       "      <th>2</th>\n",
       "      <td>2</td>\n",
       "      <td>7922</td>\n",
       "      <td>2007</td>\n",
       "      <td>0.0</td>\n",
       "      <td>731.0</td>\n",
       "      <td>0.0</td>\n",
       "      <td>326.0</td>\n",
       "      <td>1057</td>\n",
       "      <td>0</td>\n",
       "      <td>1057</td>\n",
       "      <td>...</td>\n",
       "      <td>0</td>\n",
       "      <td>0</td>\n",
       "      <td>1</td>\n",
       "      <td>0</td>\n",
       "      <td>0</td>\n",
       "      <td>0</td>\n",
       "      <td>0</td>\n",
       "      <td>1</td>\n",
       "      <td>0</td>\n",
       "      <td>1</td>\n",
       "    </tr>\n",
       "    <tr>\n",
       "      <th>3</th>\n",
       "      <td>3</td>\n",
       "      <td>9802</td>\n",
       "      <td>2007</td>\n",
       "      <td>0.0</td>\n",
       "      <td>0.0</td>\n",
       "      <td>0.0</td>\n",
       "      <td>384.0</td>\n",
       "      <td>744</td>\n",
       "      <td>700</td>\n",
       "      <td>1444</td>\n",
       "      <td>...</td>\n",
       "      <td>0</td>\n",
       "      <td>0</td>\n",
       "      <td>1</td>\n",
       "      <td>0</td>\n",
       "      <td>0</td>\n",
       "      <td>1</td>\n",
       "      <td>0</td>\n",
       "      <td>0</td>\n",
       "      <td>0</td>\n",
       "      <td>1</td>\n",
       "    </tr>\n",
       "    <tr>\n",
       "      <th>4</th>\n",
       "      <td>4</td>\n",
       "      <td>14235</td>\n",
       "      <td>1993</td>\n",
       "      <td>0.0</td>\n",
       "      <td>0.0</td>\n",
       "      <td>0.0</td>\n",
       "      <td>676.0</td>\n",
       "      <td>831</td>\n",
       "      <td>614</td>\n",
       "      <td>1445</td>\n",
       "      <td>...</td>\n",
       "      <td>0</td>\n",
       "      <td>0</td>\n",
       "      <td>1</td>\n",
       "      <td>0</td>\n",
       "      <td>0</td>\n",
       "      <td>0</td>\n",
       "      <td>0</td>\n",
       "      <td>1</td>\n",
       "      <td>0</td>\n",
       "      <td>0</td>\n",
       "    </tr>\n",
       "  </tbody>\n",
       "</table>\n",
       "<p>5 rows × 122 columns</p>\n",
       "</div>"
      ],
      "text/plain": [
       "   index  lotarea  yearremod/add  masvnrarea  bsmtfinsf1  bsmtfinsf2  \\\n",
       "0      0    13517           2005       289.0       533.0         0.0   \n",
       "1      1    11492           1997       132.0       637.0         0.0   \n",
       "2      2     7922           2007         0.0       731.0         0.0   \n",
       "3      3     9802           2007         0.0         0.0         0.0   \n",
       "4      4    14235           1993         0.0         0.0         0.0   \n",
       "\n",
       "   bsmtunfsf  1stflrsf  2ndflrsf  grlivarea  ...  functional_Sal  \\\n",
       "0      192.0       725       754       1479  ...               0   \n",
       "1      276.0       913      1209       2122  ...               0   \n",
       "2      326.0      1057         0       1057  ...               0   \n",
       "3      384.0       744       700       1444  ...               0   \n",
       "4      676.0       831       614       1445  ...               0   \n",
       "\n",
       "   functional_Sev  functional_Typ  garagetype_Attchd  garagetype_Basment  \\\n",
       "0               0               1                  1                   0   \n",
       "1               0               1                  1                   0   \n",
       "2               0               1                  0                   0   \n",
       "3               0               1                  0                   0   \n",
       "4               0               1                  0                   0   \n",
       "\n",
       "   garagetype_BuiltIn  garagetype_CarPort  garagetype_Detchd  paveddrive_P  \\\n",
       "0                   0                   0                  0             0   \n",
       "1                   0                   0                  0             0   \n",
       "2                   0                   0                  1             0   \n",
       "3                   1                   0                  0             0   \n",
       "4                   0                   0                  1             0   \n",
       "\n",
       "   paveddrive_Y  \n",
       "0             1  \n",
       "1             1  \n",
       "2             1  \n",
       "3             1  \n",
       "4             0  \n",
       "\n",
       "[5 rows x 122 columns]"
      ]
     },
     "execution_count": 8,
     "metadata": {},
     "output_type": "execute_result"
    }
   ],
   "source": [
    "combined = train_num.join(train_ord).join(dummy)\n",
    "combined = combined.reset_index()\n",
    "combined.head()"
   ]
  },
  {
   "cell_type": "markdown",
   "metadata": {},
   "source": [
    "### Analysis of Non-Chosen Variables"
   ]
  },
  {
   "cell_type": "code",
   "execution_count": 9,
   "metadata": {},
   "outputs": [
    {
     "data": {
      "text/plain": [
       "(2047, 122)"
      ]
     },
     "execution_count": 9,
     "metadata": {},
     "output_type": "execute_result"
    }
   ],
   "source": [
    "combined.shape"
   ]
  },
  {
   "cell_type": "code",
   "execution_count": 10,
   "metadata": {},
   "outputs": [
    {
     "data": {
      "text/plain": [
       "Index(['index', 'lotarea', 'yearremod/add', 'masvnrarea', 'bsmtfinsf1',\n",
       "       'bsmtfinsf2', 'bsmtunfsf', '1stflrsf', '2ndflrsf', 'grlivarea',\n",
       "       ...\n",
       "       'functional_Sal', 'functional_Sev', 'functional_Typ',\n",
       "       'garagetype_Attchd', 'garagetype_Basment', 'garagetype_BuiltIn',\n",
       "       'garagetype_CarPort', 'garagetype_Detchd', 'paveddrive_P',\n",
       "       'paveddrive_Y'],\n",
       "      dtype='object', length=122)"
      ]
     },
     "execution_count": 10,
     "metadata": {},
     "output_type": "execute_result"
    }
   ],
   "source": [
    "combined.columns"
   ]
  },
  {
   "cell_type": "code",
   "execution_count": 24,
   "metadata": {},
   "outputs": [],
   "source": [
    "combined_new = combined.drop(columns='saleprice')"
   ]
  },
  {
   "cell_type": "code",
   "execution_count": 25,
   "metadata": {},
   "outputs": [
    {
     "data": {
      "text/plain": [
       "(2047, 121)"
      ]
     },
     "execution_count": 25,
     "metadata": {},
     "output_type": "execute_result"
    }
   ],
   "source": [
    "combined_new.shape"
   ]
  },
  {
   "cell_type": "code",
   "execution_count": 26,
   "metadata": {},
   "outputs": [],
   "source": [
    "poly_combined = PolynomialFeatures(include_bias=False)"
   ]
  },
  {
   "cell_type": "code",
   "execution_count": 27,
   "metadata": {},
   "outputs": [],
   "source": [
    "combined_poly = poly_combined.fit_transform(combined_new)"
   ]
  },
  {
   "cell_type": "code",
   "execution_count": 28,
   "metadata": {},
   "outputs": [
    {
     "data": {
      "text/plain": [
       "2047"
      ]
     },
     "execution_count": 28,
     "metadata": {},
     "output_type": "execute_result"
    }
   ],
   "source": [
    "len(combined_poly)"
   ]
  },
  {
   "cell_type": "code",
   "execution_count": 29,
   "metadata": {},
   "outputs": [
    {
     "data": {
      "text/plain": [
       "7502"
      ]
     },
     "execution_count": 29,
     "metadata": {},
     "output_type": "execute_result"
    }
   ],
   "source": [
    "poly_combined_cols=poly_combined.get_feature_names(combined_new.columns)\n",
    "len(poly_combined_cols)"
   ]
  },
  {
   "cell_type": "code",
   "execution_count": 30,
   "metadata": {},
   "outputs": [
    {
     "data": {
      "text/plain": [
       "(2047, 7502)"
      ]
     },
     "execution_count": 30,
     "metadata": {},
     "output_type": "execute_result"
    }
   ],
   "source": [
    "poly_combined_df=pd.DataFrame(combined_poly,columns=poly_combined_cols)\n",
    "poly_combined_df.shape"
   ]
  },
  {
   "cell_type": "code",
   "execution_count": 31,
   "metadata": {},
   "outputs": [
    {
     "ename": "KeyboardInterrupt",
     "evalue": "",
     "output_type": "error",
     "traceback": [
      "\u001b[0;31m---------------------------------------------------------------------------\u001b[0m",
      "\u001b[0;31mKeyboardInterrupt\u001b[0m                         Traceback (most recent call last)",
      "\u001b[0;32m<ipython-input-31-fb10f71b39ad>\u001b[0m in \u001b[0;36m<module>\u001b[0;34m\u001b[0m\n\u001b[0;32m----> 1\u001b[0;31m \u001b[0mpoly_combined_corr\u001b[0m \u001b[0;34m=\u001b[0m \u001b[0mpoly_combined_df\u001b[0m\u001b[0;34m.\u001b[0m\u001b[0mcorr\u001b[0m\u001b[0;34m(\u001b[0m\u001b[0;34m)\u001b[0m\u001b[0;34m[\u001b[0m\u001b[0;34m[\u001b[0m\u001b[0;34m'saleprice'\u001b[0m\u001b[0;34m]\u001b[0m\u001b[0;34m]\u001b[0m\u001b[0;34m.\u001b[0m\u001b[0msort_values\u001b[0m\u001b[0;34m(\u001b[0m\u001b[0;34m'saleprice'\u001b[0m\u001b[0;34m,\u001b[0m\u001b[0mascending\u001b[0m\u001b[0;34m=\u001b[0m\u001b[0;32mFalse\u001b[0m\u001b[0;34m)\u001b[0m\u001b[0;34m\u001b[0m\u001b[0;34m\u001b[0m\u001b[0m\n\u001b[0m\u001b[1;32m      2\u001b[0m \u001b[0mpoly_combined_corr_filtered\u001b[0m \u001b[0;34m=\u001b[0m \u001b[0mpoly_combined_corr\u001b[0m\u001b[0;34m[\u001b[0m\u001b[0mpoly_combined_corr\u001b[0m\u001b[0;34m[\u001b[0m\u001b[0;34m'saleprice'\u001b[0m\u001b[0;34m]\u001b[0m\u001b[0;34m>\u001b[0m\u001b[0;36m0.8\u001b[0m\u001b[0;34m]\u001b[0m\u001b[0;34m.\u001b[0m\u001b[0mindex\u001b[0m\u001b[0;34m.\u001b[0m\u001b[0mtolist\u001b[0m\u001b[0;34m(\u001b[0m\u001b[0;34m)\u001b[0m\u001b[0;34m\u001b[0m\u001b[0;34m\u001b[0m\u001b[0m\n",
      "\u001b[0;32m~/opt/anaconda3/lib/python3.7/site-packages/pandas/core/frame.py\u001b[0m in \u001b[0;36mcorr\u001b[0;34m(self, method, min_periods)\u001b[0m\n\u001b[1;32m   8120\u001b[0m \u001b[0;34m\u001b[0m\u001b[0m\n\u001b[1;32m   8121\u001b[0m         \u001b[0;32mif\u001b[0m \u001b[0mmethod\u001b[0m \u001b[0;34m==\u001b[0m \u001b[0;34m\"pearson\"\u001b[0m\u001b[0;34m:\u001b[0m\u001b[0;34m\u001b[0m\u001b[0;34m\u001b[0m\u001b[0m\n\u001b[0;32m-> 8122\u001b[0;31m             \u001b[0mcorrel\u001b[0m \u001b[0;34m=\u001b[0m \u001b[0mlibalgos\u001b[0m\u001b[0;34m.\u001b[0m\u001b[0mnancorr\u001b[0m\u001b[0;34m(\u001b[0m\u001b[0mmat\u001b[0m\u001b[0;34m,\u001b[0m \u001b[0mminp\u001b[0m\u001b[0;34m=\u001b[0m\u001b[0mmin_periods\u001b[0m\u001b[0;34m)\u001b[0m\u001b[0;34m\u001b[0m\u001b[0;34m\u001b[0m\u001b[0m\n\u001b[0m\u001b[1;32m   8123\u001b[0m         \u001b[0;32melif\u001b[0m \u001b[0mmethod\u001b[0m \u001b[0;34m==\u001b[0m \u001b[0;34m\"spearman\"\u001b[0m\u001b[0;34m:\u001b[0m\u001b[0;34m\u001b[0m\u001b[0;34m\u001b[0m\u001b[0m\n\u001b[1;32m   8124\u001b[0m             \u001b[0mcorrel\u001b[0m \u001b[0;34m=\u001b[0m \u001b[0mlibalgos\u001b[0m\u001b[0;34m.\u001b[0m\u001b[0mnancorr_spearman\u001b[0m\u001b[0;34m(\u001b[0m\u001b[0mmat\u001b[0m\u001b[0;34m,\u001b[0m \u001b[0mminp\u001b[0m\u001b[0;34m=\u001b[0m\u001b[0mmin_periods\u001b[0m\u001b[0;34m)\u001b[0m\u001b[0;34m\u001b[0m\u001b[0;34m\u001b[0m\u001b[0m\n",
      "\u001b[0;31mKeyboardInterrupt\u001b[0m: "
     ]
    }
   ],
   "source": [
    "poly_combined_corr = poly_combined_df.corr()[['saleprice']].sort_values('saleprice',ascending=False)\n",
    "poly_combined_corr_filtered = poly_combined_corr[poly_combined_corr['saleprice']>0.8].index.tolist()"
   ]
  },
  {
   "cell_type": "code",
   "execution_count": null,
   "metadata": {},
   "outputs": [],
   "source": [
    "poly_combined_corr_filtered"
   ]
  },
  {
   "cell_type": "code",
   "execution_count": null,
   "metadata": {},
   "outputs": [],
   "source": [
    "def subplot_regplot(dataframe,list_of_columns, suptitle, list_of_titles,datafigsize):\n",
    "    fig, ax = plt.subplots((len(list_of_columns)//3)+1, 3,figsize= datafigsize) \n",
    "    fig.suptitle(suptitle,fontsize=30)\n",
    "    ax = ax.ravel() # Ravel turns a matrix into a vector, which is easier to iterate\n",
    "    plt.tight_layout(h_pad = 5,pad=5);\n",
    "    for i, column in enumerate(list_of_columns): # Gives us an index value to get into all our lists\n",
    "        sns.regplot(data= dataframe,x=dataframe[[column]],y='saleprice',ax=ax[i]) \n",
    "        ax[i].set_title(list_of_titles[i],fontdict={'fontsize': 15})\n",
    "        ax[i].xaxis.set_visible(True)"
   ]
  },
  {
   "cell_type": "code",
   "execution_count": null,
   "metadata": {},
   "outputs": [],
   "source": [
    "subplot_regplot(poly_combined_df,poly_combined_corr_filtered,\"Polynomial/Interaction Terms vs. Saleprice\",poly_combined_corr_filtered,(20,65))"
   ]
  },
  {
   "cell_type": "code",
   "execution_count": null,
   "metadata": {},
   "outputs": [],
   "source": []
  },
  {
   "cell_type": "code",
   "execution_count": null,
   "metadata": {},
   "outputs": [],
   "source": []
  },
  {
   "cell_type": "code",
   "execution_count": null,
   "metadata": {},
   "outputs": [],
   "source": []
  },
  {
   "cell_type": "code",
   "execution_count": null,
   "metadata": {},
   "outputs": [],
   "source": []
  },
  {
   "cell_type": "code",
   "execution_count": null,
   "metadata": {},
   "outputs": [],
   "source": []
  },
  {
   "cell_type": "code",
   "execution_count": null,
   "metadata": {},
   "outputs": [],
   "source": []
  },
  {
   "cell_type": "code",
   "execution_count": null,
   "metadata": {},
   "outputs": [],
   "source": []
  },
  {
   "cell_type": "code",
   "execution_count": null,
   "metadata": {},
   "outputs": [],
   "source": []
  },
  {
   "cell_type": "code",
   "execution_count": null,
   "metadata": {},
   "outputs": [],
   "source": []
  },
  {
   "cell_type": "code",
   "execution_count": null,
   "metadata": {},
   "outputs": [],
   "source": []
  }
 ],
 "metadata": {
  "kernelspec": {
   "display_name": "Python 3",
   "language": "python",
   "name": "python3"
  },
  "language_info": {
   "codemirror_mode": {
    "name": "ipython",
    "version": 3
   },
   "file_extension": ".py",
   "mimetype": "text/x-python",
   "name": "python",
   "nbconvert_exporter": "python",
   "pygments_lexer": "ipython3",
   "version": "3.7.6"
  }
 },
 "nbformat": 4,
 "nbformat_minor": 4
}
