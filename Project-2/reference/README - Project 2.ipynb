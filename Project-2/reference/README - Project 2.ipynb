{
 "cells": [
  {
   "cell_type": "markdown",
   "metadata": {},
   "source": [
    "# Building a Price Prediction Model for Houses in Ames, Iowa\n",
    "### Business Development of House-flipping Consultancy Business in the region of Iowa"
   ]
  },
  {
   "cell_type": "markdown",
   "metadata": {},
   "source": [
    "House flipping - the lucrative process of finding great housing deals, fixing them and eventually selling them at a better price, is gaining popularity in the United States. House flippers who manage to find a deeply discounted house in disrepair, can make anywhere from [USD 40K to USD70K](https://morrisinvest.com/blog/2019/4/15/the-truth-about-flipping-houses/?gclid=CjwKCAjwkJj6BRA-EiwA0ZVPVrGS2375XD-hXjQLIAelMNja7R-T_J5Wz5Qh1_clsL0DCyhkG2Qk2hoCtZUQAvD_BwE) in a single transaction. \n",
    "\n",
    "Iowa is a sellers' market with an overall increase in house prices in 2018 [3.9%](https://listwithclever.com/real-estate-blog/the-ultimate-guide-to-flipping-houses-in-iowa/) and an [overall increase in number of houses sold](https://www.iowarealtors.com/news/2019-iowa-real-estate-market-finishes-strong-sales-up-prices-up). Year-on-year increase in number of home sales was a staggering [9.4%](https://www.amestrib.com/business/20200220/ames-real-estate-market-snapshot#:~:text=This%20was%20an%20increase%20of,in%202019%2C%20which%20was%20%24253%2C137.&text=The%20median%20price%20also%20increased,2020%20and%20%24225%2C000%20in%202019.) for Ames, Iowa. Moreover, Iowa has one of the [top 50 cities](https://q923fm.com/iowa-city-named-in-top-50-best-places-to-flip-a-house/) for profitting off a house flip, due to its cheap renovation and remodeling costs. According to research, each flip is averages around [USD 53,962 in revenue](https://newsilver.com/the-lender/flipping-houses-in-iowa/). \n",
    "\n",
    "### *This is the power of house flips!*\n",
    "![myimage](images/houseflip2.jpg)"
   ]
  },
  {
   "cell_type": "markdown",
   "metadata": {},
   "source": [
    "# Problem Statement"
   ]
  },
  {
   "cell_type": "markdown",
   "metadata": {},
   "source": [
    "HouseInc, a boutique real-estate consultancy that specialises in assisting home owners and retail investors in their efforts to participate in house flipping investment activities, as well as passive real-estate investments. HouseInc has achieved broad success in their consultancy services in other Midwestern states, and has decided to broaden their services and expand their reach to neighbouring state, Iowa, due to its increasing demand in house purchases and stable rise in real estate prices. HouseInc is starting off its expansion in the region with Ames, a city in Iowa.\n",
    "\n",
    "As a senior consultant in the team, my task is to perform data exploration and design a house price prediction model for our business development team. The business case for this project are detailed below:\n",
    "1. Data exploration of past real estate transactions in the Ames, Iowa region, would help us to understand the geographical discrepancy in home prices, and which estate to focus on when we search for houses with deep discounts. \n",
    "2. A mathematically-backed prediction model to share with our potential clients regarding our analysis of home prices, based on their budget, preference and agenda. \n",
    "3. Provide useful and sound advice to clients intending to renovate their house for the purpose of selling them at for higher returns. \n",
    "4. Have a good understanding of which materials/styles that house owners prefer in this region through the model so that sourcing for contractors will be more targeted, and potentially cheaper. \n",
    "\n",
    "Our business profits by taking a commission from each successful house flip (10%) and a consultation charges for investors. \n",
    "\n",
    "In every house flipping exercise, the first step is always to find the best deal possible. Our regression model can help us:\n",
    "   1.  confirm if the house is selling below its fair value/at a discount; \n",
    "   2.  identify attributes to modify the house for us to maximise the house prices; \n",
    "   3.  determine the fair value of the house post-renovations;\n",
    "   4.  understand which kind of house we should be targeting"
   ]
  },
  {
   "cell_type": "markdown",
   "metadata": {},
   "source": [
    "# Content (Part 1)"
   ]
  },
  {
   "cell_type": "markdown",
   "metadata": {},
   "source": [
    "The data used for this project are:\n",
    "- [Ames House Price Training Dataset](https://www.kaggle.com/c/dsi-us-6-project-2-regression-challenge/data)\n",
    "- [Ames House Price Testing Dataset](https://www.kaggle.com/c/dsi-us-6-project-2-regression-challenge/data)\n",
    "\n",
    "Due to the scale of this project, I have seperated my process into two seperate notebooks:\n",
    "#### Part 1 - Data Preparation\n",
    "- [1A Data Preparation](#1A-Data-Preparation)\n",
    "- [1B Data Cleaning](#1B-Data-Cleaning)\n",
    "- [2A Correlation - Multi-collinearity](#2A-Correlation:-Multi-collinearity)\n",
    "- [2B Correlation of X Variables against Saleprice](#2B-Correlation-of-X-Variables-against-Saleprice)\n",
    "\n",
    "#### Part 2 - Regression & Summary\n",
    "- [3 Preparation of Data for Modelling](#3-Preparation-of-Data-for-Modelling)\n",
    "- [4 Regression Modelling](#4-Regression-Modelling)\n",
    "    - Model 1: Regression with All Regressors (Top-down Filtering)\n",
    "    - Model 2: Dropping columns that have been made zero by lasso regression in Model 1 (Top-down Filtering)\n",
    "    - Model 3: Top 40 ranked Absolute Lasso Coefficients Based on Model 1 (Bottom-up)\n",
    "    - Model 4: Top 20 ranked Absolute Lasso Coefficients Based on Model 1 (Bottom-up)\n",
    "    - Model 5: Tuning Model 2 to remove multi-collinear variables (Top-down Filtering)\n",
    "    - Model 6: Picking Regressors with the Highest Correlation to Saleprice (Bottom-up)\n",
    "    - Model 7: Using Statistic Summary to Remove Regressors from Model 5 (Top-down Filtering)\n",
    "        - Model 7A: Tuning Model 5 - Removal of Statistically Insignificant Variables (high p-values)\n",
    "        - Model 7B: Tuning Model 5 - Removal of Variables with High Standard Errors\n",
    "        - Model 7C: Tuning Model 5 - Removal of Variables that are statistically insignificant or has high standard errors\n",
    "- [5 Interaction and Polynomial Variables](#5-Interaction-and-Polynomial-Variables)\n",
    "    - Model 8A: Including the four interaction terms on top of Model 7A\n",
    "    - Model 8B: Including the List of Filtered Interaction Terms on top of Model 8A\n",
    "    - Model 9: Further fine-tuning of Model 8B using statistical evaluation\n",
    "        - Model 9A: Tuning Model 8B - Removal of Statistically Insignificant Variables (high p-values)\n",
    "        - Model 9B: Tuning Model 8B - Removal of Variables with High Standard Errors\n",
    "        - Model 9C: Tuning Model 8B - Removal of Variables that are statistically insignificant or has high standard errors\n",
    "    - Model 10: Fine Tuning Model 9A\n",
    "        - Model 10A: Removal of regressors that were 'eliminated' by lasso regression\n",
    "        - Model 10B: Removal of regressors due to MLR assumption evaluation\n",
    "- [6 Preparing Test Data for Price Prediction](#6-Preparing-Test-Data-for-Price-Prediction)\n",
    "- [7 Model Predictions](#7-Model-Predictions)\n",
    "- [8 Kaggle Submissions & Results](#8-Kaggle-Submissions-&-Results)\n",
    "- [9 Conclusions and Summary](#9-Conclusion-and-Summary)"
   ]
  },
  {
   "cell_type": "markdown",
   "metadata": {},
   "source": [
    "# Selection of Model"
   ]
  },
  {
   "cell_type": "markdown",
   "metadata": {},
   "source": [
    "### Model 10 is selected as it best fit our business purpose. This model is selected after testing 17 other models.\n",
    "- Ridge Model 10 Test R2:  0.9263\n",
    "- Ridge Model 10 Test Predicted Saleprice: 180891.58\n",
    "\n",
    "**Kaggle Submission for Model 10 (Scores):**\n",
    "- Public: 24,844\n",
    "- Private: 32,036"
   ]
  },
  {
   "cell_type": "markdown",
   "metadata": {},
   "source": [
    "![my_image](images/model_10_coef.png)"
   ]
  },
  {
   "cell_type": "markdown",
   "metadata": {},
   "source": [
    "# Data Dictionary"
   ]
  },
  {
   "cell_type": "markdown",
   "metadata": {},
   "source": [
    "|Feature|Type|Description|Class|\n",
    "|-|-|-|-|\n",
    "|**overallcond**|*integer*|Overall condition rating|Quality|\n",
    "|**fireplacequ**|*integer*|Fireplace quality|Quality|\n",
    "|**heatingqc**|*integer*|Heating quality and condition|Quality|\n",
    "|**functional_Typ**|*string*|Home functionality rating: Typical Functionality|Quality|\n",
    "|**houseage**|*float*|Age of house (From year build to sold date)|Quality|\n",
    "|**yearsafterremod**|*float*|Years after remodelling the house|Quality|\n",
    "|**bsmtexposure**|*integer*|Walkout or garden level basement walls|Area|\n",
    "|**bsmtfinsf1**|*float*|Type 1 finished square feet|Area|\n",
    "|**bsmtfinsf2**|*float*|Type 2 finished square feet|Area|\n",
    "|**bedroomsabvgr**|*integer*|Number of bedrooms above basement level|Area|\n",
    "|**kitchenabvgr**|*integer*|Number of kitchens|Area|\n",
    "|**masvnrtype_stone**|*string*|Stone material for Masonry veneer|Stylistic|\n",
    "|**exterior2nd_4**|*string*|Exterior covering on house is metal|Stylistic|\n",
    "|**roofstyle_Hip**|*string*|Hip style rooftop|Stylistic|\n",
    "|**roofstyle_Mansard**|*string*|Mansard style rooftop|Stylistic|\n",
    "|**condition1**|*integer*|Proximity to main road or railroad|Others|\n",
    "|**saletype**|*string*|Type of sale|Others|\n",
    "|**neighborhood_BrkSide**|*string*|Physical Location: Brookside|Others|\n",
    "|**neighborhood_Crawfor**|*string*|Physical Location: Crawford|Others|\n",
    "|**neighborhood_NridgHt**|*string*|Physical Location: Northridge Heights|Others|\n",
    "|**neighborhood_Somerst**|*string*|Physical Location: Somerset|Others|\n",
    "|**neighborhood_StoneBr**|*string*|Physical Location: Stone Brook|Others|\n",
    "|**bldgtype_Twnhs**|*string*|Townhouse Inside Unit|Others|\n",
    "|**bldgtype_TwnhsE**|*string*|Townhouse End Unit|Others|\n",
    "|**landcontour_HLS**|*string*|Significant slope from side to side (Flatness of property)|Others|\n",
    "|**lotconfig_FR3**|*string*|Lot configuration: Frontage on 3 sides of property|Others|\n",
    "|**lotarea overallqual**|*interaction term*|Lot size in square feet (Lot area) & Overall material and finish quality (Overallqual)|Quality & Area|\n",
    "|**lotarea foundation_Pconc**|*interaction term*|Lot size in square feet (Lot area) & Poured Concrete (Foundation foundation_Pconc)|Quality & Area|\n",
    "|**masvnrarea foundation_Pconc**|*interaction term*| Masonry veneer area in square feet (Masvnrarea) & Poured Concrete Foundation (Foundation foundation_Pconc)|Quality & Area|\n",
    "|**overallqual 1stflrsf**|*interaction term*|Overall material and finish quality (Overallqual) & First Floor square feet (1stflrsf)|Quality & Area|\n",
    "|**overallqual grlivarea**|*interaction term*|Overall material and finish quality (Overallqual) & Above grade (ground) living area square feet (grlivarea)|Quality & Area|\n",
    "|**grlivarea garagearea**|*interaction term*|Above grade (ground) living area square feet (grlivarea) & Size of garage in square feet (garagearea)|Quality & Area|"
   ]
  },
  {
   "cell_type": "markdown",
   "metadata": {},
   "source": [
    "# Conclusion & Summary"
   ]
  },
  {
   "cell_type": "markdown",
   "metadata": {},
   "source": [
    "### Evaluation"
   ]
  },
  {
   "cell_type": "markdown",
   "metadata": {},
   "source": [
    "1. Out of all regressors, the factors that affect salesprice the most is the the size/quality factor.\n",
    "    - ie. Big and quality houses will fetch a disproportionally higher premiums than small/poor-quality houses.\n",
    "    - This also means that individually, having a big house or a good quality house itself will not bring in the premiums.\n",
    "    - Business Evaluation: This shows us that if we purchase a big house of poor quality, and renovate it such that the quality improves, this will fetch us a much higher profit from the house.\n",
    "2. Second to the size/quality factor is the quality factor of the house. \n",
    "    - Houseage, which is indicative of the quality of the house, is highly correlated to the saleprice of the house. \n",
    "    - However, it is possible to offset this negative factor by introducing more positive factors to our house, ie. renovations, material changes, quality improvements etc.\n",
    "3. Neighbourhood and Building types of houses moderately impact the saleprice of houses. \n",
    "    - Prime neighbourhoods appear to be NridgeHt, StoneBr, Crawfor and Somerst in descending order (NridgeHt is the most premium). \n",
    "    - Townhouses are generally less demanded and fetch a lower price in the market. \n",
    "4. There are a few materials that are preferred over others. However, tweaking other factors (mentioned above) will bring a higher saleprice.\n",
    "    - Masvnrtype = Stone is preferred. \n",
    "    - Roofstyle = \"Hip\" is preferred over Roofstyle = \"Mansard\""
   ]
  },
  {
   "cell_type": "markdown",
   "metadata": {},
   "source": [
    "### Conclusion:\n",
    "\n",
    "Recommendations to our clients are on a case-by-case basis. There is no one-size-fits-all solution to a dynamic problem like house flipping and investing exercises. However, these are some generic recommendations suitable for different kinds of clients:\n",
    "\n",
    "**For retail investors:** Buy-and-Hold strategy\n",
    "1. To invest in a house that is generally situated around the prime neighbourhoods (NridgeHt, StoneBr, Crawfor and Somerst).\n",
    "2. Ideally, purchase a bigger house and renovate towards the end of your investment to improve quality of the house. This will bring a disproportionally bigger premium in the market. This will also help with the 'years after renovation\" considerations that buyers have. \n",
    "3. A downside to the buy-and-hold strategy is that the houseprices also decrease disproportionally due to the increased age of house. To buffer the decrease in premiums, we should be mindful of the materials we choose when renovating the house near full-term.\n",
    "    - A foundation material of Poured Contrete alongside a large houses (masonry/lotarea) is highly preferred by buyers.\n",
    "    - General preference hip-styled roof than mansard-styled roof. However, renovations for rooftops often come with a heavy price tag, hence we need to weigh the trade-offs and see if it is still worth it.\n",
    "\n",
    "**For house-flippers:** Buy-Flip-Sell strategy\n",
    "1. Location will not be a big concern for an ultra-short term investment, as location-based premiums generally rises in the long-run due to changes in demographic, amenenities etc. \n",
    "2. The same goes to \"Houseage\" as a factor in price determination, as an ultra-short term investment will not affect the 'houseage' factor which is predicted to depress prices. \n",
    "    - Contrary, renovations done within the investment holdings period will set 'years after renovations\" to be 0. This also lift prices. \n",
    "2. The key to a successful flipping strategy is to buy-low and sell-high. Hence, finding a good house at a low price is essential in this strategy.\n",
    "3. A key to success is also the size of the house. \n",
    "    - Our model suggest that houses that are big and extremely poor in quality will depress prices by a significant amount. Hence, buying them at a low price is plausible. This also suggest that the strategy of renovations will work well based on our model prediction.\n",
    "    - Preferably, find a house that has a garage and basement. These are elements of houses that lift prices. \n",
    "4. Similar to the buy-and-hold strategy, we should be really mindful in the materials chosen for our renovation work. Suggestions for desirable materials are listed above (in the buy-and-hold strategy). "
   ]
  },
  {
   "cell_type": "markdown",
   "metadata": {},
   "source": [
    "### How to improve our model"
   ]
  },
  {
   "cell_type": "markdown",
   "metadata": {},
   "source": [
    "1. House transaction data were collected over four years, from 2006 to 2010, based on 'yrsold' data from our train model. \n",
    "    - As we are working towards expanding our presence in the Ames, Iowa region in year 2020, the data collected is deemed to be outdated for present day modelling. Many factors would have changed post-2010, including neighbourhood amenities changes, demographic changes, taste & preferences of consumers etc. \n",
    "    - Data showed that 2010 house sales have dipped in numbers compared to all other years. However, we do not have data for 2010-onwards. A systematic shock to the economy may cause house prices to be depressed for a long time, and we do not know how it has affected current sale prices as a result of this crisis. \n",
    "2. Data Requests - Some other details that would be helpful for our analysis would be:\n",
    "    - Transportation facilities nearby: Number of Buses in 500m vicinity, Distance to nearest train station\n",
    "    - At least 10 years of transaction data\n",
    "    - Demographic group of each neighbourhood and each building type (in a seperate dataframe)"
   ]
  },
  {
   "cell_type": "markdown",
   "metadata": {},
   "source": [
    "*Footnote: Both HouseInc and its business case mentioned above are fictional.*"
   ]
  }
 ],
 "metadata": {
  "kernelspec": {
   "display_name": "Python 3",
   "language": "python",
   "name": "python3"
  },
  "language_info": {
   "codemirror_mode": {
    "name": "ipython",
    "version": 3
   },
   "file_extension": ".py",
   "mimetype": "text/x-python",
   "name": "python",
   "nbconvert_exporter": "python",
   "pygments_lexer": "ipython3",
   "version": "3.7.6"
  }
 },
 "nbformat": 4,
 "nbformat_minor": 4
}
