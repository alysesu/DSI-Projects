{
 "cells": [
  {
   "cell_type": "code",
   "execution_count": 139,
   "metadata": {},
   "outputs": [],
   "source": [
    "# Basic Imports\n",
    "import pandas as pd\n",
    "import numpy as np\n",
    "import seaborn as sns\n",
    "import matplotlib.pyplot as plt\n",
    "\n",
    "# Webscrapping Imports\n",
    "from bs4 import BeautifulSoup       \n",
    "import regex as re\n",
    "\n",
    "# NLP Imports\n",
    "from nltk.stem import WordNetLemmatizer\n",
    "from nltk.tokenize import RegexpTokenizer\n",
    "from nltk.stem.porter import PorterStemmer\n",
    "from nltk.corpus import stopwords\n",
    "import nltk\n",
    "\n",
    "\n",
    "# Modelling Imports\n",
    "from sklearn.feature_extraction.text import CountVectorizer, TfidfVectorizer\n",
    "from sklearn.model_selection import train_test_split, GridSearchCV,cross_val_score\n",
    "from sklearn.linear_model import LogisticRegression\n",
    "from sklearn.pipeline import Pipeline\n",
    "from sklearn.feature_extraction import text\n",
    "from sklearn.metrics import confusion_matrix\n",
    "from sklearn.metrics import roc_auc_score\n",
    "\n",
    "# Ignore warnings\n",
    "import warnings\n",
    "def ignore_warn(*args,**kwargs):\n",
    "    pass\n",
    "warnings.warn=ignore_warn\n",
    "\n",
    "#Stylistic Choice:\n",
    "plt.style.use('bmh')\n",
    "sns.set_palette(\"RdBu_r\")"
   ]
  },
  {
   "cell_type": "markdown",
   "metadata": {},
   "source": [
    "# Import Data"
   ]
  },
  {
   "cell_type": "code",
   "execution_count": 2,
   "metadata": {},
   "outputs": [],
   "source": [
    "blog= pd.read_csv(\"datasets/blogging_cleaned.csv\")\n",
    "write= pd.read_csv(\"datasets/writing_cleaned.csv\")"
   ]
  },
  {
   "cell_type": "code",
   "execution_count": 3,
   "metadata": {
    "scrolled": true
   },
   "outputs": [
    {
     "name": "stdout",
     "output_type": "stream",
     "text": [
      "Blogging dataframe Shape: (578, 8)\n",
      "Writing dataframe DF Shape: (649, 8)\n"
     ]
    }
   ],
   "source": [
    "print(f'Blogging dataframe Shape: {blog.shape}')\n",
    "print(f'Writing dataframe DF Shape: {write.shape}')"
   ]
  },
  {
   "cell_type": "markdown",
   "metadata": {},
   "source": [
    "# Labelling Data\n",
    "To map 'blog' data as 1 and 'write' data as 0."
   ]
  },
  {
   "cell_type": "code",
   "execution_count": 4,
   "metadata": {},
   "outputs": [
    {
     "data": {
      "text/plain": [
       "(578, 9)"
      ]
     },
     "execution_count": 4,
     "metadata": {},
     "output_type": "execute_result"
    }
   ],
   "source": [
    "blog['label'] = 1\n",
    "blog.shape"
   ]
  },
  {
   "cell_type": "code",
   "execution_count": 5,
   "metadata": {},
   "outputs": [
    {
     "data": {
      "text/plain": [
       "(649, 9)"
      ]
     },
     "execution_count": 5,
     "metadata": {},
     "output_type": "execute_result"
    }
   ],
   "source": [
    "write['label'] = 0\n",
    "write.shape"
   ]
  },
  {
   "cell_type": "code",
   "execution_count": 6,
   "metadata": {},
   "outputs": [
    {
     "data": {
      "text/plain": [
       "(1227, 9)"
      ]
     },
     "execution_count": 6,
     "metadata": {},
     "output_type": "execute_result"
    }
   ],
   "source": [
    "df = pd.concat([blog, write], axis=0)\n",
    "df.shape"
   ]
  },
  {
   "cell_type": "code",
   "execution_count": 7,
   "metadata": {},
   "outputs": [
    {
     "data": {
      "text/plain": [
       "0    649\n",
       "1    578\n",
       "Name: label, dtype: int64"
      ]
     },
     "execution_count": 7,
     "metadata": {},
     "output_type": "execute_result"
    }
   ],
   "source": [
    "df['label'].value_counts()"
   ]
  },
  {
   "cell_type": "code",
   "execution_count": 8,
   "metadata": {},
   "outputs": [
    {
     "data": {
      "text/html": [
       "<div>\n",
       "<style scoped>\n",
       "    .dataframe tbody tr th:only-of-type {\n",
       "        vertical-align: middle;\n",
       "    }\n",
       "\n",
       "    .dataframe tbody tr th {\n",
       "        vertical-align: top;\n",
       "    }\n",
       "\n",
       "    .dataframe thead th {\n",
       "        text-align: right;\n",
       "    }\n",
       "</style>\n",
       "<table border=\"1\" class=\"dataframe\">\n",
       "  <thead>\n",
       "    <tr style=\"text-align: right;\">\n",
       "      <th></th>\n",
       "      <th>id</th>\n",
       "      <th>title</th>\n",
       "      <th>selftext</th>\n",
       "      <th>author</th>\n",
       "      <th>ups</th>\n",
       "      <th>num_comments</th>\n",
       "      <th>created_utc</th>\n",
       "      <th>date_created</th>\n",
       "      <th>label</th>\n",
       "    </tr>\n",
       "  </thead>\n",
       "  <tbody>\n",
       "    <tr>\n",
       "      <th>0</th>\n",
       "      <td>if3l7y</td>\n",
       "      <td>Attention Bloggers! Ask Your Questions In This...</td>\n",
       "      <td>Hello bloggers\\n\\nIf you're a blogger with sim...</td>\n",
       "      <td>Selaen</td>\n",
       "      <td>3</td>\n",
       "      <td>97</td>\n",
       "      <td>1.598191e+09</td>\n",
       "      <td>2020-08-23 13:55:57</td>\n",
       "      <td>1</td>\n",
       "    </tr>\n",
       "    <tr>\n",
       "      <th>1</th>\n",
       "      <td>ikg4d9</td>\n",
       "      <td>September Feedback Thread - Post your feedback...</td>\n",
       "      <td>All feedback requests should be posted here. F...</td>\n",
       "      <td>Selaen</td>\n",
       "      <td>4</td>\n",
       "      <td>9</td>\n",
       "      <td>1.598946e+09</td>\n",
       "      <td>2020-09-01 07:46:51</td>\n",
       "      <td>1</td>\n",
       "    </tr>\n",
       "    <tr>\n",
       "      <th>2</th>\n",
       "      <td>il74ez</td>\n",
       "      <td>Should I Target US Audience or Local Audience ...</td>\n",
       "      <td>\\n# - The Niche is fairly saturated in the US ...</td>\n",
       "      <td>spicyyokuko</td>\n",
       "      <td>7</td>\n",
       "      <td>6</td>\n",
       "      <td>1.599055e+09</td>\n",
       "      <td>2020-09-02 13:49:17</td>\n",
       "      <td>1</td>\n",
       "    </tr>\n",
       "    <tr>\n",
       "      <th>3</th>\n",
       "      <td>ilc97b</td>\n",
       "      <td>5 Ways To Shape Up Your Amazon Selling Strateg...</td>\n",
       "      <td>During the current coronavirus outbreak, most ...</td>\n",
       "      <td>team4ecom</td>\n",
       "      <td>1</td>\n",
       "      <td>0</td>\n",
       "      <td>1.599071e+09</td>\n",
       "      <td>2020-09-02 18:19:42</td>\n",
       "      <td>1</td>\n",
       "    </tr>\n",
       "    <tr>\n",
       "      <th>4</th>\n",
       "      <td>ilc3os</td>\n",
       "      <td>Search console says my pages are indexed but t...</td>\n",
       "      <td>If anyone could help answer this I'd really ap...</td>\n",
       "      <td>cerebro_tonic</td>\n",
       "      <td>1</td>\n",
       "      <td>0</td>\n",
       "      <td>1.599070e+09</td>\n",
       "      <td>2020-09-02 18:11:48</td>\n",
       "      <td>1</td>\n",
       "    </tr>\n",
       "  </tbody>\n",
       "</table>\n",
       "</div>"
      ],
      "text/plain": [
       "       id                                              title  \\\n",
       "0  if3l7y  Attention Bloggers! Ask Your Questions In This...   \n",
       "1  ikg4d9  September Feedback Thread - Post your feedback...   \n",
       "2  il74ez  Should I Target US Audience or Local Audience ...   \n",
       "3  ilc97b  5 Ways To Shape Up Your Amazon Selling Strateg...   \n",
       "4  ilc3os  Search console says my pages are indexed but t...   \n",
       "\n",
       "                                            selftext         author  ups  \\\n",
       "0  Hello bloggers\\n\\nIf you're a blogger with sim...         Selaen    3   \n",
       "1  All feedback requests should be posted here. F...         Selaen    4   \n",
       "2  \\n# - The Niche is fairly saturated in the US ...    spicyyokuko    7   \n",
       "3  During the current coronavirus outbreak, most ...      team4ecom    1   \n",
       "4  If anyone could help answer this I'd really ap...  cerebro_tonic    1   \n",
       "\n",
       "   num_comments   created_utc         date_created  label  \n",
       "0            97  1.598191e+09  2020-08-23 13:55:57      1  \n",
       "1             9  1.598946e+09  2020-09-01 07:46:51      1  \n",
       "2             6  1.599055e+09  2020-09-02 13:49:17      1  \n",
       "3             0  1.599071e+09  2020-09-02 18:19:42      1  \n",
       "4             0  1.599070e+09  2020-09-02 18:11:48      1  "
      ]
     },
     "execution_count": 8,
     "metadata": {},
     "output_type": "execute_result"
    }
   ],
   "source": [
    "df.head()"
   ]
  },
  {
   "cell_type": "code",
   "execution_count": 9,
   "metadata": {},
   "outputs": [
    {
     "data": {
      "text/plain": [
       "0"
      ]
     },
     "execution_count": 9,
     "metadata": {},
     "output_type": "execute_result"
    }
   ],
   "source": [
    "df.duplicated().sum()"
   ]
  },
  {
   "cell_type": "markdown",
   "metadata": {},
   "source": [
    "Having null values in our X variable in models will cause issues when processing data."
   ]
  },
  {
   "cell_type": "code",
   "execution_count": 10,
   "metadata": {},
   "outputs": [
    {
     "data": {
      "text/plain": [
       "7"
      ]
     },
     "execution_count": 10,
     "metadata": {},
     "output_type": "execute_result"
    }
   ],
   "source": [
    "df['selftext'].isnull().sum()"
   ]
  },
  {
   "cell_type": "code",
   "execution_count": 11,
   "metadata": {},
   "outputs": [],
   "source": [
    "df.dropna(subset=['selftext'],inplace=True)"
   ]
  },
  {
   "cell_type": "code",
   "execution_count": 12,
   "metadata": {},
   "outputs": [
    {
     "data": {
      "text/plain": [
       "0"
      ]
     },
     "execution_count": 12,
     "metadata": {},
     "output_type": "execute_result"
    }
   ],
   "source": [
    "df['selftext'].isnull().sum()"
   ]
  },
  {
   "cell_type": "code",
   "execution_count": 13,
   "metadata": {},
   "outputs": [
    {
     "data": {
      "text/plain": [
       "0"
      ]
     },
     "execution_count": 13,
     "metadata": {},
     "output_type": "execute_result"
    }
   ],
   "source": [
    "df['title'].isnull().sum()"
   ]
  },
  {
   "cell_type": "markdown",
   "metadata": {},
   "source": [
    "# Initial Modelling"
   ]
  },
  {
   "cell_type": "code",
   "execution_count": 14,
   "metadata": {},
   "outputs": [],
   "source": [
    "vectorizer = CountVectorizer(max_features = 500,\n",
    "                            min_df=2,\n",
    "                            max_df=0.9) "
   ]
  },
  {
   "cell_type": "code",
   "execution_count": 18,
   "metadata": {},
   "outputs": [],
   "source": [
    "X = df[['selftext']]\n",
    "y = df['label']"
   ]
  },
  {
   "cell_type": "code",
   "execution_count": 19,
   "metadata": {},
   "outputs": [],
   "source": [
    "X_train, X_test, y_train, y_test = train_test_split(X,\n",
    "                                                    y,\n",
    "                                                    test_size=0.2,\n",
    "                                                    stratify=y,\n",
    "                                                    random_state=42)"
   ]
  },
  {
   "cell_type": "code",
   "execution_count": 20,
   "metadata": {},
   "outputs": [
    {
     "data": {
      "text/plain": [
       "(976, 1)"
      ]
     },
     "execution_count": 20,
     "metadata": {},
     "output_type": "execute_result"
    }
   ],
   "source": [
    "X_train.shape"
   ]
  },
  {
   "cell_type": "code",
   "execution_count": 21,
   "metadata": {},
   "outputs": [
    {
     "data": {
      "text/plain": [
       "(244, 1)"
      ]
     },
     "execution_count": 21,
     "metadata": {},
     "output_type": "execute_result"
    }
   ],
   "source": [
    "X_test.shape"
   ]
  },
  {
   "cell_type": "markdown",
   "metadata": {},
   "source": [
    "# Preprocessing Text Data\n",
    "- Cleaning (i.e. removing HTML)\n",
    "- Lemmatizing\n",
    "- Stemming"
   ]
  },
  {
   "cell_type": "code",
   "execution_count": 22,
   "metadata": {},
   "outputs": [
    {
     "data": {
      "text/plain": [
       "557    I can spend two hours going over the same two paragraphs again and again rather than moving on with my writing. I end up frozen because I feel like what I have isn't 'good enough,' and then I never continue writing. Or, I spend a lot of time polishing paragraphs that I later realize will have to be cut anyway, so it's a huge waste of time. Do any other people struggle with this? Any tips for just letting yourself go and knocking out that imperfect first draft without nitpicking and worrying and getting yourself stuck in a perfectionist frenzy?\n",
       "Name: selftext, dtype: object"
      ]
     },
     "execution_count": 22,
     "metadata": {},
     "output_type": "execute_result"
    }
   ],
   "source": [
    "pd.set_option('display.max_colwidth', -1) \n",
    "X_train['selftext'].head(1)"
   ]
  },
  {
   "cell_type": "code",
   "execution_count": 23,
   "metadata": {},
   "outputs": [],
   "source": [
    "def review_to_words(raw_review):\n",
    "    # Function to convert a raw review to a string of words\n",
    "    # The input is a single string (a raw movie review), and \n",
    "    # the output is a single string (a preprocessed movie review)\n",
    "    \n",
    "    # 1. Remove HTML.\n",
    "    review_text = BeautifulSoup(raw_review).get_text()\n",
    "    \n",
    "    # 2. Remove non-letters.\n",
    "    letters_only = re.sub(\"[^a-zA-Z]\", \" \", review_text)\n",
    "    \n",
    "    # 3. Convert to lower case, split into individual words.\n",
    "    words = letters_only.lower().split()    \n",
    "    \n",
    "    # 4. Instantiate stemmer.\n",
    "    p_stemmer = PorterStemmer()\n",
    "    stemmed_words = [p_stemmer.stem(i) for i in words]\n",
    "\n",
    "    \n",
    "    # 5. Remove stopwords.\n",
    "    stops = set(text.ENGLISH_STOP_WORDS)\n",
    "    newStopWords = ['like','write','blog','blogger','thi','would','wa','wordpress','www','http','ve','just']\n",
    "    stops.update(newStopWords)\n",
    "    meaningful_words = [w for w in stemmed_words if not w in stops]\n",
    "    \n",
    "    # 6. Join the words back into one string separated by space, and return the result.\n",
    "\n",
    "    return(\" \".join(meaningful_words))"
   ]
  },
  {
   "cell_type": "code",
   "execution_count": 24,
   "metadata": {},
   "outputs": [
    {
     "data": {
      "text/plain": [
       "327"
      ]
     },
     "execution_count": 24,
     "metadata": {},
     "output_type": "execute_result"
    }
   ],
   "source": [
    "newStopWords = ['like','write','blog','blogger','thi','would','wa','wordpress','www','ve']\n",
    "stops = text.ENGLISH_STOP_WORDS.union(newStopWords)\n",
    "len(stops)"
   ]
  },
  {
   "cell_type": "code",
   "execution_count": 25,
   "metadata": {},
   "outputs": [
    {
     "data": {
      "text/plain": [
       "frozenset({'a',\n",
       "           'about',\n",
       "           'above',\n",
       "           'across',\n",
       "           'after',\n",
       "           'afterwards',\n",
       "           'again',\n",
       "           'against',\n",
       "           'all',\n",
       "           'almost',\n",
       "           'alone',\n",
       "           'along',\n",
       "           'already',\n",
       "           'also',\n",
       "           'although',\n",
       "           'always',\n",
       "           'am',\n",
       "           'among',\n",
       "           'amongst',\n",
       "           'amoungst',\n",
       "           'amount',\n",
       "           'an',\n",
       "           'and',\n",
       "           'another',\n",
       "           'any',\n",
       "           'anyhow',\n",
       "           'anyone',\n",
       "           'anything',\n",
       "           'anyway',\n",
       "           'anywhere',\n",
       "           'are',\n",
       "           'around',\n",
       "           'as',\n",
       "           'at',\n",
       "           'back',\n",
       "           'be',\n",
       "           'became',\n",
       "           'because',\n",
       "           'become',\n",
       "           'becomes',\n",
       "           'becoming',\n",
       "           'been',\n",
       "           'before',\n",
       "           'beforehand',\n",
       "           'behind',\n",
       "           'being',\n",
       "           'below',\n",
       "           'beside',\n",
       "           'besides',\n",
       "           'between',\n",
       "           'beyond',\n",
       "           'bill',\n",
       "           'blog',\n",
       "           'blogger',\n",
       "           'both',\n",
       "           'bottom',\n",
       "           'but',\n",
       "           'by',\n",
       "           'call',\n",
       "           'can',\n",
       "           'cannot',\n",
       "           'cant',\n",
       "           'co',\n",
       "           'con',\n",
       "           'could',\n",
       "           'couldnt',\n",
       "           'cry',\n",
       "           'de',\n",
       "           'describe',\n",
       "           'detail',\n",
       "           'do',\n",
       "           'done',\n",
       "           'down',\n",
       "           'due',\n",
       "           'during',\n",
       "           'each',\n",
       "           'eg',\n",
       "           'eight',\n",
       "           'either',\n",
       "           'eleven',\n",
       "           'else',\n",
       "           'elsewhere',\n",
       "           'empty',\n",
       "           'enough',\n",
       "           'etc',\n",
       "           'even',\n",
       "           'ever',\n",
       "           'every',\n",
       "           'everyone',\n",
       "           'everything',\n",
       "           'everywhere',\n",
       "           'except',\n",
       "           'few',\n",
       "           'fifteen',\n",
       "           'fifty',\n",
       "           'fill',\n",
       "           'find',\n",
       "           'fire',\n",
       "           'first',\n",
       "           'five',\n",
       "           'for',\n",
       "           'former',\n",
       "           'formerly',\n",
       "           'forty',\n",
       "           'found',\n",
       "           'four',\n",
       "           'from',\n",
       "           'front',\n",
       "           'full',\n",
       "           'further',\n",
       "           'get',\n",
       "           'give',\n",
       "           'go',\n",
       "           'had',\n",
       "           'has',\n",
       "           'hasnt',\n",
       "           'have',\n",
       "           'he',\n",
       "           'hence',\n",
       "           'her',\n",
       "           'here',\n",
       "           'hereafter',\n",
       "           'hereby',\n",
       "           'herein',\n",
       "           'hereupon',\n",
       "           'hers',\n",
       "           'herself',\n",
       "           'him',\n",
       "           'himself',\n",
       "           'his',\n",
       "           'how',\n",
       "           'however',\n",
       "           'hundred',\n",
       "           'i',\n",
       "           'ie',\n",
       "           'if',\n",
       "           'in',\n",
       "           'inc',\n",
       "           'indeed',\n",
       "           'interest',\n",
       "           'into',\n",
       "           'is',\n",
       "           'it',\n",
       "           'its',\n",
       "           'itself',\n",
       "           'keep',\n",
       "           'last',\n",
       "           'latter',\n",
       "           'latterly',\n",
       "           'least',\n",
       "           'less',\n",
       "           'like',\n",
       "           'ltd',\n",
       "           'made',\n",
       "           'many',\n",
       "           'may',\n",
       "           'me',\n",
       "           'meanwhile',\n",
       "           'might',\n",
       "           'mill',\n",
       "           'mine',\n",
       "           'more',\n",
       "           'moreover',\n",
       "           'most',\n",
       "           'mostly',\n",
       "           'move',\n",
       "           'much',\n",
       "           'must',\n",
       "           'my',\n",
       "           'myself',\n",
       "           'name',\n",
       "           'namely',\n",
       "           'neither',\n",
       "           'never',\n",
       "           'nevertheless',\n",
       "           'next',\n",
       "           'nine',\n",
       "           'no',\n",
       "           'nobody',\n",
       "           'none',\n",
       "           'noone',\n",
       "           'nor',\n",
       "           'not',\n",
       "           'nothing',\n",
       "           'now',\n",
       "           'nowhere',\n",
       "           'of',\n",
       "           'off',\n",
       "           'often',\n",
       "           'on',\n",
       "           'once',\n",
       "           'one',\n",
       "           'only',\n",
       "           'onto',\n",
       "           'or',\n",
       "           'other',\n",
       "           'others',\n",
       "           'otherwise',\n",
       "           'our',\n",
       "           'ours',\n",
       "           'ourselves',\n",
       "           'out',\n",
       "           'over',\n",
       "           'own',\n",
       "           'part',\n",
       "           'per',\n",
       "           'perhaps',\n",
       "           'please',\n",
       "           'put',\n",
       "           'rather',\n",
       "           're',\n",
       "           'same',\n",
       "           'see',\n",
       "           'seem',\n",
       "           'seemed',\n",
       "           'seeming',\n",
       "           'seems',\n",
       "           'serious',\n",
       "           'several',\n",
       "           'she',\n",
       "           'should',\n",
       "           'show',\n",
       "           'side',\n",
       "           'since',\n",
       "           'sincere',\n",
       "           'six',\n",
       "           'sixty',\n",
       "           'so',\n",
       "           'some',\n",
       "           'somehow',\n",
       "           'someone',\n",
       "           'something',\n",
       "           'sometime',\n",
       "           'sometimes',\n",
       "           'somewhere',\n",
       "           'still',\n",
       "           'such',\n",
       "           'system',\n",
       "           'take',\n",
       "           'ten',\n",
       "           'than',\n",
       "           'that',\n",
       "           'the',\n",
       "           'their',\n",
       "           'them',\n",
       "           'themselves',\n",
       "           'then',\n",
       "           'thence',\n",
       "           'there',\n",
       "           'thereafter',\n",
       "           'thereby',\n",
       "           'therefore',\n",
       "           'therein',\n",
       "           'thereupon',\n",
       "           'these',\n",
       "           'they',\n",
       "           'thi',\n",
       "           'thick',\n",
       "           'thin',\n",
       "           'third',\n",
       "           'this',\n",
       "           'those',\n",
       "           'though',\n",
       "           'three',\n",
       "           'through',\n",
       "           'throughout',\n",
       "           'thru',\n",
       "           'thus',\n",
       "           'to',\n",
       "           'together',\n",
       "           'too',\n",
       "           'top',\n",
       "           'toward',\n",
       "           'towards',\n",
       "           'twelve',\n",
       "           'twenty',\n",
       "           'two',\n",
       "           'un',\n",
       "           'under',\n",
       "           'until',\n",
       "           'up',\n",
       "           'upon',\n",
       "           'us',\n",
       "           've',\n",
       "           'very',\n",
       "           'via',\n",
       "           'wa',\n",
       "           'was',\n",
       "           'we',\n",
       "           'well',\n",
       "           'were',\n",
       "           'what',\n",
       "           'whatever',\n",
       "           'when',\n",
       "           'whence',\n",
       "           'whenever',\n",
       "           'where',\n",
       "           'whereafter',\n",
       "           'whereas',\n",
       "           'whereby',\n",
       "           'wherein',\n",
       "           'whereupon',\n",
       "           'wherever',\n",
       "           'whether',\n",
       "           'which',\n",
       "           'while',\n",
       "           'whither',\n",
       "           'who',\n",
       "           'whoever',\n",
       "           'whole',\n",
       "           'whom',\n",
       "           'whose',\n",
       "           'why',\n",
       "           'will',\n",
       "           'with',\n",
       "           'within',\n",
       "           'without',\n",
       "           'wordpress',\n",
       "           'would',\n",
       "           'write',\n",
       "           'www',\n",
       "           'yet',\n",
       "           'you',\n",
       "           'your',\n",
       "           'yours',\n",
       "           'yourself',\n",
       "           'yourselves'})"
      ]
     },
     "execution_count": 25,
     "metadata": {},
     "output_type": "execute_result"
    }
   ],
   "source": [
    "stops"
   ]
  },
  {
   "cell_type": "code",
   "execution_count": 26,
   "metadata": {},
   "outputs": [
    {
     "name": "stdout",
     "output_type": "stream",
     "text": [
      "There are 1220 posts.\n"
     ]
    }
   ],
   "source": [
    "# Get the number of reddit posts based on the dataframe size.\n",
    "total_posts = df.shape[0]\n",
    "print(f'There are {total_posts} posts.')"
   ]
  },
  {
   "cell_type": "code",
   "execution_count": 27,
   "metadata": {},
   "outputs": [
    {
     "name": "stdout",
     "output_type": "stream",
     "text": [
      "Cleaning and parsing the training set reddit posts...\n",
      "Reddit Post 100 of 1220.\n",
      "Reddit Post 200 of 1220.\n",
      "Reddit Post 300 of 1220.\n",
      "Reddit Post 400 of 1220.\n",
      "Reddit Post 500 of 1220.\n",
      "Reddit Post 600 of 1220.\n",
      "Reddit Post 700 of 1220.\n",
      "Reddit Post 800 of 1220.\n",
      "Reddit Post 900 of 1220.\n",
      "Cleaning and parsing the testing set reddit posts...\n",
      "Reddit Post 1000 of 1220.\n",
      "Reddit Post 1100 of 1220.\n",
      "Reddit Post 1200 of 1220.\n"
     ]
    }
   ],
   "source": [
    "# Initialize an empty list to hold the clean reviews.\n",
    "clean_train_posts = []\n",
    "clean_test_posts = []\n",
    "\n",
    "print(\"Cleaning and parsing the training set reddit posts...\")\n",
    "\n",
    "# Instantiate counter.\n",
    "j = 0\n",
    "\n",
    "# For every review in our training set...\n",
    "for train_post in X_train['selftext']:\n",
    "    \n",
    "    # Convert review to words, then append to clean_train_reviews.\n",
    "    clean_train_posts.append(review_to_words(train_post))\n",
    "    \n",
    "    # If the index is divisible by 100, print a message.\n",
    "    if (j + 1) % 100 == 0:\n",
    "        print(f'Reddit Post {j + 1} of {total_posts}.')\n",
    "    \n",
    "    j += 1\n",
    "\n",
    "# Let's do the same for our testing set.\n",
    "print(\"Cleaning and parsing the testing set reddit posts...\")\n",
    "\n",
    "# For every review in our testing set...\n",
    "for test_post in X_test['selftext']:\n",
    "    \n",
    "    # Convert review to words, then append to clean_train_reviews.\n",
    "    clean_test_posts.append(review_to_words(test_post))\n",
    "    \n",
    "    # If the index is divisible by 100, print a message.\n",
    "    if (j + 1) % 100 == 0:\n",
    "        print(f'Reddit Post {j + 1} of {total_posts}.')\n",
    "        \n",
    "    j += 1"
   ]
  },
  {
   "cell_type": "code",
   "execution_count": 28,
   "metadata": {
    "scrolled": true
   },
   "outputs": [
    {
     "data": {
      "text/plain": [
       "list"
      ]
     },
     "execution_count": 28,
     "metadata": {},
     "output_type": "execute_result"
    }
   ],
   "source": [
    "type(clean_train_posts)"
   ]
  },
  {
   "cell_type": "code",
   "execution_count": 29,
   "metadata": {
    "scrolled": true
   },
   "outputs": [
    {
     "data": {
      "text/plain": [
       "976"
      ]
     },
     "execution_count": 29,
     "metadata": {},
     "output_type": "execute_result"
    }
   ],
   "source": [
    "len(clean_train_posts)"
   ]
  },
  {
   "cell_type": "code",
   "execution_count": 30,
   "metadata": {},
   "outputs": [
    {
     "data": {
      "text/plain": [
       "'spend hour paragraph end frozen becaus feel isn t good continu spend lot time polish paragraph later realiz cut s huge wast time ani peopl struggl ani tip let knock imperfect draft nitpick worri stuck perfectionist frenzi'"
      ]
     },
     "execution_count": 30,
     "metadata": {},
     "output_type": "execute_result"
    }
   ],
   "source": [
    "clean_train_posts[0]"
   ]
  },
  {
   "cell_type": "markdown",
   "metadata": {},
   "source": [
    "# Logistic Regression Modelling"
   ]
  },
  {
   "cell_type": "markdown",
   "metadata": {},
   "source": [
    "### Count Vectorizer"
   ]
  },
  {
   "cell_type": "code",
   "execution_count": 31,
   "metadata": {},
   "outputs": [],
   "source": [
    "vectorizer = CountVectorizer(max_features = 10000,\n",
    "                            min_df=2,\n",
    "                            max_df=0.9,\n",
    "                            ngram_range=(1,2))     \n",
    "# Chosen ngram_range (1,2) because we are analysing selftext, which has a bulk of phrases that are key to capture."
   ]
  },
  {
   "cell_type": "code",
   "execution_count": 32,
   "metadata": {},
   "outputs": [],
   "source": [
    "train_data_features_cvec = vectorizer.fit_transform(clean_train_posts)\n",
    "test_data_features_cvec = vectorizer.transform(clean_test_posts)"
   ]
  },
  {
   "cell_type": "code",
   "execution_count": 33,
   "metadata": {},
   "outputs": [
    {
     "name": "stdout",
     "output_type": "stream",
     "text": [
      "['abandon', 'abil', 'abil thought', 'abl', 'abl ad', 'abl help', 'abl make', 'abl monet', 'abov', 'abov categori', 'absolut', 'absorb', 'abstract', 'absurd', 'abus', 'academ', 'accent', 'accept', 'access', 'access ad', 'accid', 'accommod', 'accomplish', 'accord', 'accord googl', 'accord want', 'account', 'account differ', 'account onli', 'account prize', 'account start', 'accumul', 'accur', 'accus', 'achiev', 'achiev anyth', 'achiev goal', 'acquisit', 'act', 'action', 'action charact', 'action did', 'action heavi', 'action scene', 'activ', 'activ use', 'activ verb', 'actual', 'actual ask', 'actual come']\n"
     ]
    }
   ],
   "source": [
    "vocab = vectorizer.get_feature_names()\n",
    "print(vocab[:50])\n",
    "\n",
    "# We observe that there are mostly single-worded text that has been selected, with only a few double-worded text."
   ]
  },
  {
   "cell_type": "code",
   "execution_count": 34,
   "metadata": {},
   "outputs": [
    {
     "name": "stdout",
     "output_type": "stream",
     "text": [
      "(976, 8083)\n",
      "(244, 8083)\n"
     ]
    }
   ],
   "source": [
    "print(train_data_features_cvec.shape)\n",
    "print(test_data_features_cvec.shape)"
   ]
  },
  {
   "cell_type": "code",
   "execution_count": 35,
   "metadata": {},
   "outputs": [
    {
     "data": {
      "text/plain": [
       "0.9989754098360656"
      ]
     },
     "execution_count": 35,
     "metadata": {},
     "output_type": "execute_result"
    }
   ],
   "source": [
    "lr = LogisticRegression(solver = 'lbfgs')\n",
    "\n",
    "# Fit model to training data.\n",
    "lr.fit(train_data_features_cvec, y_train)\n",
    "\n",
    "# Evaluate model on training data.\n",
    "lr.score(train_data_features_cvec, y_train)"
   ]
  },
  {
   "cell_type": "code",
   "execution_count": 36,
   "metadata": {
    "scrolled": true
   },
   "outputs": [
    {
     "data": {
      "text/plain": [
       "0.9098360655737705"
      ]
     },
     "execution_count": 36,
     "metadata": {},
     "output_type": "execute_result"
    }
   ],
   "source": [
    "lr.score(test_data_features_cvec, y_test) # check if there are duplicated selftext."
   ]
  },
  {
   "cell_type": "code",
   "execution_count": 37,
   "metadata": {},
   "outputs": [
    {
     "data": {
      "text/plain": [
       "0.9262323390894819"
      ]
     },
     "execution_count": 37,
     "metadata": {},
     "output_type": "execute_result"
    }
   ],
   "source": [
    "cross_val_score(lr, train_data_features_cvec, y_train, cv=5).mean()"
   ]
  },
  {
   "cell_type": "code",
   "execution_count": 38,
   "metadata": {},
   "outputs": [],
   "source": [
    "df_cvec = pd.DataFrame(vectorizer.fit_transform(clean_train_posts).toarray(),\n",
    "                  columns=vectorizer.get_feature_names())"
   ]
  },
  {
   "cell_type": "code",
   "execution_count": 39,
   "metadata": {},
   "outputs": [
    {
     "data": {
      "text/html": [
       "<div>\n",
       "<style scoped>\n",
       "    .dataframe tbody tr th:only-of-type {\n",
       "        vertical-align: middle;\n",
       "    }\n",
       "\n",
       "    .dataframe tbody tr th {\n",
       "        vertical-align: top;\n",
       "    }\n",
       "\n",
       "    .dataframe thead th {\n",
       "        text-align: right;\n",
       "    }\n",
       "</style>\n",
       "<table border=\"1\" class=\"dataframe\">\n",
       "  <thead>\n",
       "    <tr style=\"text-align: right;\">\n",
       "      <th></th>\n",
       "      <th>observations</th>\n",
       "    </tr>\n",
       "  </thead>\n",
       "  <tbody>\n",
       "    <tr>\n",
       "      <th>stori</th>\n",
       "      <td>629</td>\n",
       "    </tr>\n",
       "    <tr>\n",
       "      <th>want</th>\n",
       "      <td>511</td>\n",
       "    </tr>\n",
       "    <tr>\n",
       "      <th>ani</th>\n",
       "      <td>504</td>\n",
       "    </tr>\n",
       "    <tr>\n",
       "      <th>start</th>\n",
       "      <td>465</td>\n",
       "    </tr>\n",
       "    <tr>\n",
       "      <th>charact</th>\n",
       "      <td>461</td>\n",
       "    </tr>\n",
       "    <tr>\n",
       "      <th>use</th>\n",
       "      <td>459</td>\n",
       "    </tr>\n",
       "    <tr>\n",
       "      <th>make</th>\n",
       "      <td>449</td>\n",
       "    </tr>\n",
       "    <tr>\n",
       "      <th>know</th>\n",
       "      <td>439</td>\n",
       "    </tr>\n",
       "    <tr>\n",
       "      <th>work</th>\n",
       "      <td>425</td>\n",
       "    </tr>\n",
       "    <tr>\n",
       "      <th>think</th>\n",
       "      <td>414</td>\n",
       "    </tr>\n",
       "  </tbody>\n",
       "</table>\n",
       "</div>"
      ],
      "text/plain": [
       "         observations\n",
       "stori    629         \n",
       "want     511         \n",
       "ani      504         \n",
       "start    465         \n",
       "charact  461         \n",
       "use      459         \n",
       "make     449         \n",
       "know     439         \n",
       "work     425         \n",
       "think    414         "
      ]
     },
     "execution_count": 39,
     "metadata": {},
     "output_type": "execute_result"
    }
   ],
   "source": [
    "cvec_count = df_cvec.sum().sort_values(ascending=False).to_frame(name='observations')\n",
    "cvec_count.head(10)"
   ]
  },
  {
   "cell_type": "markdown",
   "metadata": {},
   "source": [
    "### TfidfVectorizer"
   ]
  },
  {
   "cell_type": "code",
   "execution_count": 40,
   "metadata": {},
   "outputs": [],
   "source": [
    "tvec = TfidfVectorizer(ngram_range=(1,2),\n",
    "                       min_df=2,\n",
    "                        max_df=0.9,\n",
    "                      max_features= 5000)"
   ]
  },
  {
   "cell_type": "code",
   "execution_count": 41,
   "metadata": {},
   "outputs": [],
   "source": [
    "train_data_features_tvec = tvec.fit_transform(clean_train_posts)\n",
    "test_data_features_tvec = tvec.transform(clean_test_posts)"
   ]
  },
  {
   "cell_type": "code",
   "execution_count": 42,
   "metadata": {},
   "outputs": [
    {
     "data": {
      "text/plain": [
       "(976, 5000)"
      ]
     },
     "execution_count": 42,
     "metadata": {},
     "output_type": "execute_result"
    }
   ],
   "source": [
    "train_data_features_tvec.shape"
   ]
  },
  {
   "cell_type": "code",
   "execution_count": 43,
   "metadata": {},
   "outputs": [
    {
     "data": {
      "text/plain": [
       "0.9897540983606558"
      ]
     },
     "execution_count": 43,
     "metadata": {},
     "output_type": "execute_result"
    }
   ],
   "source": [
    "lr = LogisticRegression(solver = 'lbfgs')\n",
    "\n",
    "# Fit model to training data.\n",
    "lr.fit(train_data_features_tvec, y_train)\n",
    "\n",
    "# Evaluate model on training data.\n",
    "lr.score(train_data_features_tvec, y_train)"
   ]
  },
  {
   "cell_type": "code",
   "execution_count": 44,
   "metadata": {},
   "outputs": [
    {
     "data": {
      "text/plain": [
       "0.9180327868852459"
      ]
     },
     "execution_count": 44,
     "metadata": {},
     "output_type": "execute_result"
    }
   ],
   "source": [
    "lr.score(test_data_features_tvec, y_test) # check if there are duplicated selftext."
   ]
  },
  {
   "cell_type": "code",
   "execution_count": 45,
   "metadata": {},
   "outputs": [
    {
     "data": {
      "text/plain": [
       "0.938524332810047"
      ]
     },
     "execution_count": 45,
     "metadata": {},
     "output_type": "execute_result"
    }
   ],
   "source": [
    "cross_val_score(lr, train_data_features_tvec, y_train, cv=5).mean()"
   ]
  },
  {
   "cell_type": "code",
   "execution_count": 46,
   "metadata": {},
   "outputs": [],
   "source": [
    "tfid_df = pd.DataFrame(tvec.fit_transform(clean_train_posts).toarray(),\n",
    "                  columns=tvec.get_feature_names())"
   ]
  },
  {
   "cell_type": "code",
   "execution_count": 47,
   "metadata": {},
   "outputs": [
    {
     "data": {
      "text/plain": [
       "(976, 5000)"
      ]
     },
     "execution_count": 47,
     "metadata": {},
     "output_type": "execute_result"
    }
   ],
   "source": [
    "tfid_df.shape"
   ]
  },
  {
   "cell_type": "code",
   "execution_count": 48,
   "metadata": {},
   "outputs": [
    {
     "data": {
      "text/plain": [
       "(976, 5000)"
      ]
     },
     "execution_count": 48,
     "metadata": {},
     "output_type": "execute_result"
    }
   ],
   "source": [
    "train_data_features_tvec.shape"
   ]
  },
  {
   "cell_type": "code",
   "execution_count": 49,
   "metadata": {},
   "outputs": [
    {
     "data": {
      "text/html": [
       "<div>\n",
       "<style scoped>\n",
       "    .dataframe tbody tr th:only-of-type {\n",
       "        vertical-align: middle;\n",
       "    }\n",
       "\n",
       "    .dataframe tbody tr th {\n",
       "        vertical-align: top;\n",
       "    }\n",
       "\n",
       "    .dataframe thead th {\n",
       "        text-align: right;\n",
       "    }\n",
       "</style>\n",
       "<table border=\"1\" class=\"dataframe\">\n",
       "  <thead>\n",
       "    <tr style=\"text-align: right;\">\n",
       "      <th></th>\n",
       "      <th>Most Common Terms</th>\n",
       "    </tr>\n",
       "  </thead>\n",
       "  <tbody>\n",
       "    <tr>\n",
       "      <th>stori</th>\n",
       "      <td>30.855989</td>\n",
       "    </tr>\n",
       "    <tr>\n",
       "      <th>charact</th>\n",
       "      <td>27.199379</td>\n",
       "    </tr>\n",
       "    <tr>\n",
       "      <th>ani</th>\n",
       "      <td>24.951076</td>\n",
       "    </tr>\n",
       "    <tr>\n",
       "      <th>want</th>\n",
       "      <td>24.462039</td>\n",
       "    </tr>\n",
       "    <tr>\n",
       "      <th>post</th>\n",
       "      <td>24.344080</td>\n",
       "    </tr>\n",
       "    <tr>\n",
       "      <th>start</th>\n",
       "      <td>22.793590</td>\n",
       "    </tr>\n",
       "    <tr>\n",
       "      <th>know</th>\n",
       "      <td>21.422468</td>\n",
       "    </tr>\n",
       "    <tr>\n",
       "      <th>use</th>\n",
       "      <td>21.319313</td>\n",
       "    </tr>\n",
       "    <tr>\n",
       "      <th>make</th>\n",
       "      <td>20.836380</td>\n",
       "    </tr>\n",
       "    <tr>\n",
       "      <th>think</th>\n",
       "      <td>20.477511</td>\n",
       "    </tr>\n",
       "  </tbody>\n",
       "</table>\n",
       "</div>"
      ],
      "text/plain": [
       "         Most Common Terms\n",
       "stori    30.855989        \n",
       "charact  27.199379        \n",
       "ani      24.951076        \n",
       "want     24.462039        \n",
       "post     24.344080        \n",
       "start    22.793590        \n",
       "know     21.422468        \n",
       "use      21.319313        \n",
       "make     20.836380        \n",
       "think    20.477511        "
      ]
     },
     "execution_count": 49,
     "metadata": {},
     "output_type": "execute_result"
    }
   ],
   "source": [
    "tvec_count = tfid_df.sum().sort_values(ascending=False).to_frame(name='Most Common Terms')\n",
    "tvec_count.head(10)"
   ]
  },
  {
   "cell_type": "markdown",
   "metadata": {},
   "source": [
    "**Observations**\n",
    "- We observe that using the tvec dataframe with weighted words based on its occurence and frequency, fetched a better train/test scores than cvec. \n",
    "- Hence, we will choose the tvec dataframe for our logistic regression. We will find the best parameter by doing a gridsearch later. "
   ]
  },
  {
   "cell_type": "markdown",
   "metadata": {},
   "source": [
    "### GridSearch"
   ]
  },
  {
   "cell_type": "code",
   "execution_count": 50,
   "metadata": {},
   "outputs": [],
   "source": [
    "pipe = Pipeline([\n",
    "    ('tvec', TfidfVectorizer()),\n",
    "    ('lr', LogisticRegression(solver = 'lbfgs'))])"
   ]
  },
  {
   "cell_type": "code",
   "execution_count": 51,
   "metadata": {
    "scrolled": true
   },
   "outputs": [
    {
     "data": {
      "text/plain": [
       "0.9436577708006281"
      ]
     },
     "execution_count": 51,
     "metadata": {},
     "output_type": "execute_result"
    }
   ],
   "source": [
    "cross_val_score(pipe, clean_train_posts, y_train, cv=5).mean()"
   ]
  },
  {
   "cell_type": "code",
   "execution_count": 52,
   "metadata": {},
   "outputs": [],
   "source": [
    "pipe_params = {\n",
    "    'tvec__max_features': [2500,5000,7500],\n",
    "    'tvec__min_df' : [2,4,6],\n",
    "    'tvec__max_df': [0.9, 0.925, 0.95],\n",
    "    'tvec__ngram_range': [(1,1),(1,2),(2,3)]}"
   ]
  },
  {
   "cell_type": "code",
   "execution_count": 53,
   "metadata": {},
   "outputs": [],
   "source": [
    "gs = GridSearchCV(pipe, # what object are we optimizing?\n",
    "                  param_grid=pipe_params, # what parameters values are we searching?\n",
    "                  cv=5) # 5-fold cross-validation."
   ]
  },
  {
   "cell_type": "code",
   "execution_count": 54,
   "metadata": {},
   "outputs": [],
   "source": [
    "gs.fit(clean_train_posts, y_train);"
   ]
  },
  {
   "cell_type": "code",
   "execution_count": 55,
   "metadata": {},
   "outputs": [
    {
     "data": {
      "text/plain": [
       "0.9416117216117217"
      ]
     },
     "execution_count": 55,
     "metadata": {},
     "output_type": "execute_result"
    }
   ],
   "source": [
    "gs.best_score_"
   ]
  },
  {
   "cell_type": "code",
   "execution_count": 56,
   "metadata": {},
   "outputs": [
    {
     "data": {
      "text/plain": [
       "{'tvec__max_df': 0.9,\n",
       " 'tvec__max_features': 2500,\n",
       " 'tvec__min_df': 2,\n",
       " 'tvec__ngram_range': (1, 1)}"
      ]
     },
     "execution_count": 56,
     "metadata": {},
     "output_type": "execute_result"
    }
   ],
   "source": [
    "gs.best_params_"
   ]
  },
  {
   "cell_type": "code",
   "execution_count": 57,
   "metadata": {},
   "outputs": [
    {
     "data": {
      "text/plain": [
       "Pipeline(memory=None,\n",
       "         steps=[('tvec',\n",
       "                 TfidfVectorizer(analyzer='word', binary=False,\n",
       "                                 decode_error='strict',\n",
       "                                 dtype=<class 'numpy.float64'>,\n",
       "                                 encoding='utf-8', input='content',\n",
       "                                 lowercase=True, max_df=0.9, max_features=2500,\n",
       "                                 min_df=2, ngram_range=(1, 1), norm='l2',\n",
       "                                 preprocessor=None, smooth_idf=True,\n",
       "                                 stop_words=None, strip_accents=None,\n",
       "                                 sublinear_tf=False,\n",
       "                                 token_pattern='(?u)\\\\b\\\\w\\\\w+\\\\b',\n",
       "                                 tokenizer=None, use_idf=True,\n",
       "                                 vocabulary=None)),\n",
       "                ('lr',\n",
       "                 LogisticRegression(C=1.0, class_weight=None, dual=False,\n",
       "                                    fit_intercept=True, intercept_scaling=1,\n",
       "                                    l1_ratio=None, max_iter=100,\n",
       "                                    multi_class='auto', n_jobs=None,\n",
       "                                    penalty='l2', random_state=None,\n",
       "                                    solver='lbfgs', tol=0.0001, verbose=0,\n",
       "                                    warm_start=False))],\n",
       "         verbose=False)"
      ]
     },
     "execution_count": 57,
     "metadata": {},
     "output_type": "execute_result"
    }
   ],
   "source": [
    "gs_model_lr = gs.best_estimator_\n",
    "gs_model_lr"
   ]
  },
  {
   "cell_type": "code",
   "execution_count": 58,
   "metadata": {},
   "outputs": [
    {
     "data": {
      "text/plain": [
       "0.9866803278688525"
      ]
     },
     "execution_count": 58,
     "metadata": {},
     "output_type": "execute_result"
    }
   ],
   "source": [
    "gs_model_lr.score(clean_train_posts, y_train)"
   ]
  },
  {
   "cell_type": "code",
   "execution_count": 59,
   "metadata": {},
   "outputs": [
    {
     "data": {
      "text/plain": [
       "0.930327868852459"
      ]
     },
     "execution_count": 59,
     "metadata": {},
     "output_type": "execute_result"
    }
   ],
   "source": [
    "gs_model_lr.score(clean_test_posts, y_test)"
   ]
  },
  {
   "cell_type": "code",
   "execution_count": 60,
   "metadata": {},
   "outputs": [],
   "source": [
    "predicted_test = gs_model_lr.predict(clean_test_posts)"
   ]
  },
  {
   "cell_type": "code",
   "execution_count": 61,
   "metadata": {
    "scrolled": false
   },
   "outputs": [
    {
     "data": {
      "image/png": "[encoded data removed]",
      "text/plain": [
       "<Figure size 432x288 with 1 Axes>"
      ]
     },
     "metadata": {
      "needs_background": "light"
     },
     "output_type": "display_data"
    }
   ],
   "source": [
    "sns.regplot(y_test, predicted_test);"
   ]
  },
  {
   "cell_type": "code",
   "execution_count": 62,
   "metadata": {
    "scrolled": true
   },
   "outputs": [
    {
     "data": {
      "text/html": [
       "<div>\n",
       "<style scoped>\n",
       "    .dataframe tbody tr th:only-of-type {\n",
       "        vertical-align: middle;\n",
       "    }\n",
       "\n",
       "    .dataframe tbody tr th {\n",
       "        vertical-align: top;\n",
       "    }\n",
       "\n",
       "    .dataframe thead th {\n",
       "        text-align: right;\n",
       "    }\n",
       "</style>\n",
       "<table border=\"1\" class=\"dataframe\">\n",
       "  <thead>\n",
       "    <tr style=\"text-align: right;\">\n",
       "      <th></th>\n",
       "      <th>true_values</th>\n",
       "      <th>pred_probs</th>\n",
       "    </tr>\n",
       "  </thead>\n",
       "  <tbody>\n",
       "    <tr>\n",
       "      <th>83</th>\n",
       "      <td>0</td>\n",
       "      <td>0.095061</td>\n",
       "    </tr>\n",
       "    <tr>\n",
       "      <th>513</th>\n",
       "      <td>1</td>\n",
       "      <td>0.754423</td>\n",
       "    </tr>\n",
       "    <tr>\n",
       "      <th>605</th>\n",
       "      <td>0</td>\n",
       "      <td>0.123077</td>\n",
       "    </tr>\n",
       "    <tr>\n",
       "      <th>404</th>\n",
       "      <td>1</td>\n",
       "      <td>0.750794</td>\n",
       "    </tr>\n",
       "    <tr>\n",
       "      <th>504</th>\n",
       "      <td>0</td>\n",
       "      <td>0.103373</td>\n",
       "    </tr>\n",
       "  </tbody>\n",
       "</table>\n",
       "</div>"
      ],
      "text/plain": [
       "     true_values  pred_probs\n",
       "83   0            0.095061  \n",
       "513  1            0.754423  \n",
       "605  0            0.123077  \n",
       "404  1            0.750794  \n",
       "504  0            0.103373  "
      ]
     },
     "execution_count": 62,
     "metadata": {},
     "output_type": "execute_result"
    }
   ],
   "source": [
    "pred_proba_lr = [i[1] for i in gs_model_lr.predict_proba(clean_test_posts)]\n",
    "pred_df_lr = pd.DataFrame({'true_values': y_test,\n",
    "                        'pred_probs':pred_proba_lr})\n",
    "\n",
    "pred_df_lr.head()"
   ]
  },
  {
   "cell_type": "code",
   "execution_count": 144,
   "metadata": {},
   "outputs": [
    {
     "data": {
      "text/plain": [
       "0.9841729525862069"
      ]
     },
     "execution_count": 144,
     "metadata": {},
     "output_type": "execute_result"
    }
   ],
   "source": [
    "lr_roc = roc_auc_score(y_test,pred_proba_lr)\n",
    "lr_roc"
   ]
  },
  {
   "cell_type": "code",
   "execution_count": 64,
   "metadata": {},
   "outputs": [
    {
     "data": {
      "image/png": "[encoded data removed]",
      "text/plain": [
       "<Figure size 720x504 with 1 Axes>"
      ]
     },
     "metadata": {
      "needs_background": "light"
     },
     "output_type": "display_data"
    }
   ],
   "source": [
    "# Create figure.\n",
    "plt.figure(figsize = (10,7))\n",
    "\n",
    "# Create threshold values.\n",
    "thresholds = np.linspace(0, 1, 200)\n",
    "\n",
    "# Define function to calculate sensitivity. (True positive rate.)\n",
    "def TPR(df, true_col, pred_prob_col, threshold):\n",
    "    true_positive = df[(df[true_col] == 1) & (df[pred_prob_col] >= threshold)].shape[0]\n",
    "    false_negative = df[(df[true_col] == 1) & (df[pred_prob_col] < threshold)].shape[0]\n",
    "    return true_positive / (true_positive + false_negative)\n",
    "    \n",
    "\n",
    "# Define function to calculate 1 - specificity. (False positive rate.)\n",
    "def FPR(df, true_col, pred_prob_col, threshold):\n",
    "    true_negative = df[(df[true_col] == 0) & (df[pred_prob_col] <= threshold)].shape[0]\n",
    "    false_positive = df[(df[true_col] == 0) & (df[pred_prob_col] > threshold)].shape[0]\n",
    "    return 1 - (true_negative / (true_negative + false_positive))\n",
    "    \n",
    "# Calculate sensitivity & 1-specificity for each threshold between 0 and 1.\n",
    "tpr_values = [TPR(pred_df_lr, 'true_values', 'pred_probs', prob) for prob in thresholds]\n",
    "fpr_values = [FPR(pred_df_lr, 'true_values', 'pred_probs', prob) for prob in thresholds]\n",
    "\n",
    "# Plot ROC curve.\n",
    "plt.plot(fpr_values, # False Positive Rate on X-axis\n",
    "         tpr_values, # True Positive Rate on Y-axis\n",
    "         label='ROC Curve')\n",
    "\n",
    "# Plot baseline. (Perfect overlap between the two populations.)\n",
    "plt.plot(np.linspace(0, 1, 200),\n",
    "         np.linspace(0, 1, 200),\n",
    "         label='baseline',\n",
    "         linestyle='--')\n",
    "\n",
    "# Label axes.\n",
    "plt.title('Receiver Operating Characteristic Curve (Logistic Regression)', fontsize=22)\n",
    "plt.ylabel('Sensitivity \\n (True Positive Rate)', fontsize=18)\n",
    "plt.xlabel('1 - Specificity \\n (False Positive Rate)', fontsize=18)\n",
    "\n",
    "# Create legend.\n",
    "plt.legend(fontsize=16);"
   ]
  },
  {
   "cell_type": "code",
   "execution_count": 65,
   "metadata": {},
   "outputs": [
    {
     "data": {
      "text/plain": [
       "[('tvec',\n",
       "  TfidfVectorizer(analyzer='word', binary=False, decode_error='strict',\n",
       "                  dtype=<class 'numpy.float64'>, encoding='utf-8',\n",
       "                  input='content', lowercase=True, max_df=0.9, max_features=2500,\n",
       "                  min_df=2, ngram_range=(1, 1), norm='l2', preprocessor=None,\n",
       "                  smooth_idf=True, stop_words=None, strip_accents=None,\n",
       "                  sublinear_tf=False, token_pattern='(?u)\\\\b\\\\w\\\\w+\\\\b',\n",
       "                  tokenizer=None, use_idf=True, vocabulary=None)),\n",
       " ('lr',\n",
       "  LogisticRegression(C=1.0, class_weight=None, dual=False, fit_intercept=True,\n",
       "                     intercept_scaling=1, l1_ratio=None, max_iter=100,\n",
       "                     multi_class='auto', n_jobs=None, penalty='l2',\n",
       "                     random_state=None, solver='lbfgs', tol=0.0001, verbose=0,\n",
       "                     warm_start=False))]"
      ]
     },
     "execution_count": 65,
     "metadata": {},
     "output_type": "execute_result"
    }
   ],
   "source": [
    "gs_model_lr.steps"
   ]
  },
  {
   "cell_type": "code",
   "execution_count": 66,
   "metadata": {},
   "outputs": [],
   "source": [
    "words = list(gs_model_lr.steps[0][1].get_feature_names())\n",
    "coeff = list(np.exp(gs_model_lr.steps[1][1].coef_[0]))"
   ]
  },
  {
   "cell_type": "code",
   "execution_count": 67,
   "metadata": {},
   "outputs": [],
   "source": [
    "dataframe = pd.DataFrame(data=words)\n",
    "dataframe['coef'] = coeff\n",
    "dataframe.columns = ['word', 'coef']"
   ]
  },
  {
   "cell_type": "code",
   "execution_count": 68,
   "metadata": {},
   "outputs": [
    {
     "data": {
      "text/html": [
       "<div>\n",
       "<style scoped>\n",
       "    .dataframe tbody tr th:only-of-type {\n",
       "        vertical-align: middle;\n",
       "    }\n",
       "\n",
       "    .dataframe tbody tr th {\n",
       "        vertical-align: top;\n",
       "    }\n",
       "\n",
       "    .dataframe thead th {\n",
       "        text-align: right;\n",
       "    }\n",
       "</style>\n",
       "<table border=\"1\" class=\"dataframe\">\n",
       "  <thead>\n",
       "    <tr style=\"text-align: right;\">\n",
       "      <th></th>\n",
       "      <th>word</th>\n",
       "      <th>coef</th>\n",
       "    </tr>\n",
       "  </thead>\n",
       "  <tbody>\n",
       "    <tr>\n",
       "      <th>2081</th>\n",
       "      <td>stori</td>\n",
       "      <td>0.015001</td>\n",
       "    </tr>\n",
       "    <tr>\n",
       "      <th>363</th>\n",
       "      <td>charact</td>\n",
       "      <td>0.025298</td>\n",
       "    </tr>\n",
       "    <tr>\n",
       "      <th>266</th>\n",
       "      <td>book</td>\n",
       "      <td>0.071734</td>\n",
       "    </tr>\n",
       "    <tr>\n",
       "      <th>1476</th>\n",
       "      <td>novel</td>\n",
       "      <td>0.141103</td>\n",
       "    </tr>\n",
       "    <tr>\n",
       "      <th>1746</th>\n",
       "      <td>read</td>\n",
       "      <td>0.204908</td>\n",
       "    </tr>\n",
       "    <tr>\n",
       "      <th>...</th>\n",
       "      <td>...</td>\n",
       "      <td>...</td>\n",
       "    </tr>\n",
       "    <tr>\n",
       "      <th>140</th>\n",
       "      <td>articl</td>\n",
       "      <td>6.649866</td>\n",
       "    </tr>\n",
       "    <tr>\n",
       "      <th>2417</th>\n",
       "      <td>websit</td>\n",
       "      <td>7.052665</td>\n",
       "    </tr>\n",
       "    <tr>\n",
       "      <th>1460</th>\n",
       "      <td>nich</td>\n",
       "      <td>8.677168</td>\n",
       "    </tr>\n",
       "    <tr>\n",
       "      <th>470</th>\n",
       "      <td>content</td>\n",
       "      <td>8.747900</td>\n",
       "    </tr>\n",
       "    <tr>\n",
       "      <th>1643</th>\n",
       "      <td>post</td>\n",
       "      <td>25.298853</td>\n",
       "    </tr>\n",
       "  </tbody>\n",
       "</table>\n",
       "<p>2500 rows × 2 columns</p>\n",
       "</div>"
      ],
      "text/plain": [
       "         word       coef\n",
       "2081  stori    0.015001 \n",
       "363   charact  0.025298 \n",
       "266   book     0.071734 \n",
       "1476  novel    0.141103 \n",
       "1746  read     0.204908 \n",
       "...    ...          ... \n",
       "140   articl   6.649866 \n",
       "2417  websit   7.052665 \n",
       "1460  nich     8.677168 \n",
       "470   content  8.747900 \n",
       "1643  post     25.298853\n",
       "\n",
       "[2500 rows x 2 columns]"
      ]
     },
     "execution_count": 68,
     "metadata": {},
     "output_type": "execute_result"
    }
   ],
   "source": [
    "dataframe.sort_values(by='coef')"
   ]
  },
  {
   "cell_type": "code",
   "execution_count": 69,
   "metadata": {
    "scrolled": false
   },
   "outputs": [],
   "source": [
    "lr_blog_df = dataframe.sort_values(by='coef',ascending=False).head(15)\n",
    "lr_write_df = dataframe.sort_values(by='coef',ascending=False).tail(15)"
   ]
  },
  {
   "cell_type": "code",
   "execution_count": 70,
   "metadata": {},
   "outputs": [
    {
     "data": {
      "image/png": "[encoded data removed]",
      "text/plain": [
       "<Figure size 720x576 with 1 Axes>"
      ]
     },
     "metadata": {
      "needs_background": "light"
     },
     "output_type": "display_data"
    }
   ],
   "source": [
    "plt.figure(figsize=(10,8))\n",
    "sns.set_context(\"notebook\", font_scale=1.5, rc={\"lines.linewidth\": 2.0})\n",
    "sns.barplot(data=lr_blog_df,y='word',x='coef',palette=\"rocket\")\n",
    "plt.title(\"Logistic Regression Model: Blogging Coefficients (Highest Coefficient indicates greater predictability)\");"
   ]
  },
  {
   "cell_type": "code",
   "execution_count": 71,
   "metadata": {},
   "outputs": [
    {
     "data": {
      "image/png": "[encoded data removed]",
      "text/plain": [
       "<Figure size 720x576 with 1 Axes>"
      ]
     },
     "metadata": {
      "needs_background": "light"
     },
     "output_type": "display_data"
    }
   ],
   "source": [
    "sns.set_context(\"notebook\", font_scale=1.5, rc={\"lines.linewidth\": 2.0})\n",
    "plt.figure(figsize=(10,8))\n",
    "sns.barplot(data=lr_write_df,y='word',x='coef',palette=\"rocket\")\n",
    "plt.title(\"Logistic Regression Model: Writing Coefficients (Lowest Coefficient indicates greater predictability)\");"
   ]
  },
  {
   "cell_type": "markdown",
   "metadata": {},
   "source": [
    "Due to the nature of "
   ]
  },
  {
   "cell_type": "code",
   "execution_count": 72,
   "metadata": {},
   "outputs": [],
   "source": [
    "# Generate a confusion matrix.\n",
    "cm_lr = confusion_matrix(y_test, predicted_test)"
   ]
  },
  {
   "cell_type": "code",
   "execution_count": 73,
   "metadata": {},
   "outputs": [],
   "source": [
    "tn, fp, fn, tp = confusion_matrix(y_test, predicted_test).ravel()"
   ]
  },
  {
   "cell_type": "code",
   "execution_count": 74,
   "metadata": {},
   "outputs": [
    {
     "data": {
      "text/html": [
       "<div>\n",
       "<style scoped>\n",
       "    .dataframe tbody tr th:only-of-type {\n",
       "        vertical-align: middle;\n",
       "    }\n",
       "\n",
       "    .dataframe tbody tr th {\n",
       "        vertical-align: top;\n",
       "    }\n",
       "\n",
       "    .dataframe thead th {\n",
       "        text-align: right;\n",
       "    }\n",
       "</style>\n",
       "<table border=\"1\" class=\"dataframe\">\n",
       "  <thead>\n",
       "    <tr style=\"text-align: right;\">\n",
       "      <th></th>\n",
       "      <th>predicted writing</th>\n",
       "      <th>predicted blogging</th>\n",
       "    </tr>\n",
       "  </thead>\n",
       "  <tbody>\n",
       "    <tr>\n",
       "      <th>actual writing</th>\n",
       "      <td>119</td>\n",
       "      <td>9</td>\n",
       "    </tr>\n",
       "    <tr>\n",
       "      <th>actual blogging</th>\n",
       "      <td>8</td>\n",
       "      <td>108</td>\n",
       "    </tr>\n",
       "  </tbody>\n",
       "</table>\n",
       "</div>"
      ],
      "text/plain": [
       "                 predicted writing  predicted blogging\n",
       "actual writing   119                9                 \n",
       "actual blogging  8                  108               "
      ]
     },
     "execution_count": 74,
     "metadata": {},
     "output_type": "execute_result"
    }
   ],
   "source": [
    "cm_df = pd.DataFrame(cm_lr, columns=['predicted writing', 'predicted blogging'], index=['actual writing', 'actual blogging'])\n",
    "cm_df"
   ]
  },
  {
   "cell_type": "markdown",
   "metadata": {},
   "source": [
    "# Naive-Bayes Modelling"
   ]
  },
  {
   "cell_type": "code",
   "execution_count": 75,
   "metadata": {},
   "outputs": [],
   "source": [
    "# Import our model!\n",
    "from sklearn.naive_bayes import MultinomialNB"
   ]
  },
  {
   "cell_type": "code",
   "execution_count": 76,
   "metadata": {},
   "outputs": [],
   "source": [
    "# Instantiate our model!\n",
    "\n",
    "nb = MultinomialNB(class_prior=[0.4,0.6])"
   ]
  },
  {
   "cell_type": "code",
   "execution_count": 77,
   "metadata": {},
   "outputs": [],
   "source": [
    "# Fit our model!\n",
    "\n",
    "model = nb.fit(train_data_features_tvec, y_train)"
   ]
  },
  {
   "cell_type": "code",
   "execution_count": 78,
   "metadata": {},
   "outputs": [
    {
     "data": {
      "text/plain": [
       "array([0, 1, 0, 1, 0, 1, 1, 0, 1, 1, 1, 0, 0, 0, 1, 0, 0, 1, 1, 0, 0, 1,\n",
       "       1, 0, 1, 0, 0, 0, 0, 0, 1, 0, 1, 1, 1, 0, 0, 1, 1, 1, 0, 0, 0, 1,\n",
       "       0, 1, 0, 1, 0, 0, 1, 1, 0, 0, 1, 1, 0, 0, 0, 0, 0, 1, 0, 0, 0, 1,\n",
       "       1, 1, 0, 0, 1, 1, 0, 1, 0, 1, 1, 1, 1, 0, 1, 0, 0, 1, 1, 1, 1, 0,\n",
       "       0, 1, 0, 1, 0, 1, 0, 1, 0, 1, 1, 0, 1, 0, 0, 0, 1, 0, 0, 1, 0, 1,\n",
       "       1, 1, 0, 1, 0, 1, 1, 0, 0, 1, 1, 1, 0, 1, 1, 1, 1, 1, 1, 0, 1, 1,\n",
       "       0, 1, 1, 1, 0, 0, 1, 0, 0, 1, 0, 1, 1, 0, 0, 1, 1, 1, 1, 0, 0, 0,\n",
       "       1, 1, 1, 1, 1, 1, 1, 0, 1, 1, 0, 1, 0, 0, 0, 0, 1, 1, 1, 1, 1, 0,\n",
       "       0, 0, 1, 1, 1, 0, 1, 1, 0, 0, 0, 1, 1, 1, 1, 0, 0, 1, 0, 1, 0, 1,\n",
       "       1, 0, 0, 0, 1, 1, 0, 0, 1, 1, 1, 1, 1, 0, 0, 0, 1, 0, 1, 0, 1, 0,\n",
       "       0, 1, 1, 0, 1, 1, 0, 0, 0, 0, 0, 1, 1, 0, 0, 0, 0, 1, 1, 0, 0, 1,\n",
       "       1, 0])"
      ]
     },
     "execution_count": 78,
     "metadata": {},
     "output_type": "execute_result"
    }
   ],
   "source": [
    "# Generate our predictions!\n",
    "\n",
    "predictions = nb.predict(test_data_features_tvec)\n",
    "predictions"
   ]
  },
  {
   "cell_type": "code",
   "execution_count": 79,
   "metadata": {},
   "outputs": [
    {
     "data": {
      "text/plain": [
       "0.9825819672131147"
      ]
     },
     "execution_count": 79,
     "metadata": {},
     "output_type": "execute_result"
    }
   ],
   "source": [
    "# Score our model on the training set.\n",
    "nb.score(train_data_features_tvec, y_train)"
   ]
  },
  {
   "cell_type": "code",
   "execution_count": 80,
   "metadata": {},
   "outputs": [
    {
     "data": {
      "text/plain": [
       "0.9180327868852459"
      ]
     },
     "execution_count": 80,
     "metadata": {},
     "output_type": "execute_result"
    }
   ],
   "source": [
    "# Score our model on the testing set.\n",
    "nb.score(test_data_features_tvec,y_test)"
   ]
  },
  {
   "cell_type": "code",
   "execution_count": 81,
   "metadata": {},
   "outputs": [
    {
     "data": {
      "text/plain": [
       "array([[112,  16],\n",
       "       [  4, 112]])"
      ]
     },
     "execution_count": 81,
     "metadata": {},
     "output_type": "execute_result"
    }
   ],
   "source": [
    "# Generate a confusion matrix.\n",
    "confusion_matrix(y_test,predictions)"
   ]
  },
  {
   "cell_type": "code",
   "execution_count": 82,
   "metadata": {},
   "outputs": [],
   "source": [
    "tn, fp, fn, tp = confusion_matrix(y_test, predictions).ravel()"
   ]
  },
  {
   "cell_type": "code",
   "execution_count": 83,
   "metadata": {
    "scrolled": false
   },
   "outputs": [
    {
     "name": "stdout",
     "output_type": "stream",
     "text": [
      "True Negatives: 112\n",
      "False Positives: 16\n",
      "False Negatives: 4\n",
      "True Positives: 112\n"
     ]
    }
   ],
   "source": [
    "print(\"True Negatives: %s\" % tn)\n",
    "print(\"False Positives: %s\" % fp)\n",
    "print(\"False Negatives: %s\" % fn)\n",
    "print(\"True Positives: %s\" % tp)"
   ]
  },
  {
   "cell_type": "markdown",
   "metadata": {},
   "source": [
    "**Observations**\n",
    "\n",
    "- Confusion matrix suggest that our classifier is generally accurate in predicting our reddit posts into its two correct subreddit groups. "
   ]
  },
  {
   "cell_type": "markdown",
   "metadata": {},
   "source": [
    "### Gridsearch"
   ]
  },
  {
   "cell_type": "code",
   "execution_count": 84,
   "metadata": {},
   "outputs": [],
   "source": [
    "pipe = Pipeline([\n",
    "    ('tvec', TfidfVectorizer()),\n",
    "    ('nb', MultinomialNB())\n",
    "])"
   ]
  },
  {
   "cell_type": "code",
   "execution_count": 85,
   "metadata": {
    "scrolled": true
   },
   "outputs": [
    {
     "data": {
      "text/plain": [
       "0.940559916274202"
      ]
     },
     "execution_count": 85,
     "metadata": {},
     "output_type": "execute_result"
    }
   ],
   "source": [
    "cross_val_score(pipe, clean_train_posts, y_train, cv=5).mean()"
   ]
  },
  {
   "cell_type": "code",
   "execution_count": 86,
   "metadata": {},
   "outputs": [],
   "source": [
    "pipe_params = {\n",
    "    'tvec__max_features': [500,1000,2500],\n",
    "    'tvec__min_df' : [2,4,6],\n",
    "    'tvec__max_df': [0.9, 0.925, 0.95],\n",
    "    'tvec__ngram_range': [(1,1),(1,2),(2,3)]}"
   ]
  },
  {
   "cell_type": "code",
   "execution_count": 87,
   "metadata": {},
   "outputs": [],
   "source": [
    "gs = GridSearchCV(pipe, # what object are we optimizing?\n",
    "                  param_grid=pipe_params, # what parameters values are we searching?\n",
    "                  cv=5) # 5-fold cross-validation."
   ]
  },
  {
   "cell_type": "code",
   "execution_count": 88,
   "metadata": {},
   "outputs": [],
   "source": [
    "gs.fit(clean_train_posts, y_train);"
   ]
  },
  {
   "cell_type": "code",
   "execution_count": 89,
   "metadata": {},
   "outputs": [
    {
     "data": {
      "text/plain": [
       "0.9405651491365777"
      ]
     },
     "execution_count": 89,
     "metadata": {},
     "output_type": "execute_result"
    }
   ],
   "source": [
    "gs.best_score_"
   ]
  },
  {
   "cell_type": "code",
   "execution_count": 90,
   "metadata": {},
   "outputs": [
    {
     "data": {
      "text/plain": [
       "{'tvec__max_df': 0.9,\n",
       " 'tvec__max_features': 2500,\n",
       " 'tvec__min_df': 2,\n",
       " 'tvec__ngram_range': (1, 1)}"
      ]
     },
     "execution_count": 90,
     "metadata": {},
     "output_type": "execute_result"
    }
   ],
   "source": [
    "gs.best_params_"
   ]
  },
  {
   "cell_type": "code",
   "execution_count": 91,
   "metadata": {},
   "outputs": [
    {
     "data": {
      "text/plain": [
       "Pipeline(memory=None,\n",
       "         steps=[('tvec',\n",
       "                 TfidfVectorizer(analyzer='word', binary=False,\n",
       "                                 decode_error='strict',\n",
       "                                 dtype=<class 'numpy.float64'>,\n",
       "                                 encoding='utf-8', input='content',\n",
       "                                 lowercase=True, max_df=0.9, max_features=2500,\n",
       "                                 min_df=2, ngram_range=(1, 1), norm='l2',\n",
       "                                 preprocessor=None, smooth_idf=True,\n",
       "                                 stop_words=None, strip_accents=None,\n",
       "                                 sublinear_tf=False,\n",
       "                                 token_pattern='(?u)\\\\b\\\\w\\\\w+\\\\b',\n",
       "                                 tokenizer=None, use_idf=True,\n",
       "                                 vocabulary=None)),\n",
       "                ('nb',\n",
       "                 MultinomialNB(alpha=1.0, class_prior=None, fit_prior=True))],\n",
       "         verbose=False)"
      ]
     },
     "execution_count": 91,
     "metadata": {},
     "output_type": "execute_result"
    }
   ],
   "source": [
    "gs_model_nb = gs.best_estimator_\n",
    "gs_model_nb"
   ]
  },
  {
   "cell_type": "code",
   "execution_count": 92,
   "metadata": {},
   "outputs": [
    {
     "data": {
      "text/plain": [
       "0.9723360655737705"
      ]
     },
     "execution_count": 92,
     "metadata": {},
     "output_type": "execute_result"
    }
   ],
   "source": [
    "gs_model_nb.score(clean_train_posts, y_train)"
   ]
  },
  {
   "cell_type": "code",
   "execution_count": 93,
   "metadata": {},
   "outputs": [
    {
     "data": {
      "text/plain": [
       "0.9344262295081968"
      ]
     },
     "execution_count": 93,
     "metadata": {},
     "output_type": "execute_result"
    }
   ],
   "source": [
    "gs_model_nb.score(clean_test_posts, y_test)"
   ]
  },
  {
   "cell_type": "code",
   "execution_count": 94,
   "metadata": {},
   "outputs": [],
   "source": [
    "predicted_test = gs_model_nb.predict(clean_test_posts)"
   ]
  },
  {
   "cell_type": "code",
   "execution_count": 95,
   "metadata": {},
   "outputs": [
    {
     "data": {
      "image/png": "[encoded data removed]",
      "text/plain": [
       "<Figure size 432x288 with 1 Axes>"
      ]
     },
     "metadata": {
      "needs_background": "light"
     },
     "output_type": "display_data"
    }
   ],
   "source": [
    "sns.regplot(y_test, predicted_test);"
   ]
  },
  {
   "cell_type": "code",
   "execution_count": 96,
   "metadata": {
    "scrolled": true
   },
   "outputs": [
    {
     "data": {
      "text/html": [
       "<div>\n",
       "<style scoped>\n",
       "    .dataframe tbody tr th:only-of-type {\n",
       "        vertical-align: middle;\n",
       "    }\n",
       "\n",
       "    .dataframe tbody tr th {\n",
       "        vertical-align: top;\n",
       "    }\n",
       "\n",
       "    .dataframe thead th {\n",
       "        text-align: right;\n",
       "    }\n",
       "</style>\n",
       "<table border=\"1\" class=\"dataframe\">\n",
       "  <thead>\n",
       "    <tr style=\"text-align: right;\">\n",
       "      <th></th>\n",
       "      <th>true_values</th>\n",
       "      <th>pred_probs</th>\n",
       "    </tr>\n",
       "  </thead>\n",
       "  <tbody>\n",
       "    <tr>\n",
       "      <th>83</th>\n",
       "      <td>0</td>\n",
       "      <td>0.044105</td>\n",
       "    </tr>\n",
       "    <tr>\n",
       "      <th>513</th>\n",
       "      <td>1</td>\n",
       "      <td>0.932927</td>\n",
       "    </tr>\n",
       "    <tr>\n",
       "      <th>605</th>\n",
       "      <td>0</td>\n",
       "      <td>0.069578</td>\n",
       "    </tr>\n",
       "    <tr>\n",
       "      <th>404</th>\n",
       "      <td>1</td>\n",
       "      <td>0.809700</td>\n",
       "    </tr>\n",
       "    <tr>\n",
       "      <th>504</th>\n",
       "      <td>0</td>\n",
       "      <td>0.071479</td>\n",
       "    </tr>\n",
       "  </tbody>\n",
       "</table>\n",
       "</div>"
      ],
      "text/plain": [
       "     true_values  pred_probs\n",
       "83   0            0.044105  \n",
       "513  1            0.932927  \n",
       "605  0            0.069578  \n",
       "404  1            0.809700  \n",
       "504  0            0.071479  "
      ]
     },
     "execution_count": 96,
     "metadata": {},
     "output_type": "execute_result"
    }
   ],
   "source": [
    "pred_proba_nb= [i[1] for i in gs_model_nb.predict_proba(clean_test_posts)]\n",
    "pred_df_nb = pd.DataFrame({'true_values': y_test,\n",
    "                        'pred_probs':pred_proba_nb})\n",
    "\n",
    "pred_df_nb.head()"
   ]
  },
  {
   "cell_type": "code",
   "execution_count": 146,
   "metadata": {},
   "outputs": [
    {
     "data": {
      "text/plain": [
       "0.9877424568965517"
      ]
     },
     "execution_count": 146,
     "metadata": {},
     "output_type": "execute_result"
    }
   ],
   "source": [
    "nb_roc = roc_auc_score(y_test,pred_proba_nb)\n",
    "nb_roc"
   ]
  },
  {
   "cell_type": "code",
   "execution_count": 98,
   "metadata": {},
   "outputs": [
    {
     "data": {
      "image/png": "[encoded data removed]",
      "text/plain": [
       "<Figure size 720x504 with 1 Axes>"
      ]
     },
     "metadata": {
      "needs_background": "light"
     },
     "output_type": "display_data"
    }
   ],
   "source": [
    "# Create figure.\n",
    "plt.figure(figsize = (10,7))\n",
    "\n",
    "# Create threshold values.\n",
    "thresholds = np.linspace(0, 1, 200)\n",
    "\n",
    "# Define function to calculate sensitivity. (True positive rate.)\n",
    "def TPR(df, true_col, pred_prob_col, threshold):\n",
    "    true_positive = df[(df[true_col] == 1) & (df[pred_prob_col] >= threshold)].shape[0]\n",
    "    false_negative = df[(df[true_col] == 1) & (df[pred_prob_col] < threshold)].shape[0]\n",
    "    return true_positive / (true_positive + false_negative)\n",
    "    \n",
    "\n",
    "# Define function to calculate 1 - specificity. (False positive rate.)\n",
    "def FPR(df, true_col, pred_prob_col, threshold):\n",
    "    true_negative = df[(df[true_col] == 0) & (df[pred_prob_col] <= threshold)].shape[0]\n",
    "    false_positive = df[(df[true_col] == 0) & (df[pred_prob_col] > threshold)].shape[0]\n",
    "    return 1 - (true_negative / (true_negative + false_positive))\n",
    "    \n",
    "# Calculate sensitivity & 1-specificity for each threshold between 0 and 1.\n",
    "tpr_values = [TPR(pred_df_nb, 'true_values', 'pred_probs', prob) for prob in thresholds]\n",
    "fpr_values = [FPR(pred_df_nb, 'true_values', 'pred_probs', prob) for prob in thresholds]\n",
    "\n",
    "# Plot ROC curve.\n",
    "plt.plot(fpr_values, # False Positive Rate on X-axis\n",
    "         tpr_values, # True Positive Rate on Y-axis\n",
    "         label='ROC Curve')\n",
    "\n",
    "# Plot baseline. (Perfect overlap between the two populations.)\n",
    "plt.plot(np.linspace(0, 1, 200),\n",
    "         np.linspace(0, 1, 200),\n",
    "         label='baseline',\n",
    "         linestyle='--')\n",
    "\n",
    "# Label axes.\n",
    "plt.title('Receiver Operating Characteristic Curve (Naive-Bayes)', fontsize=22)\n",
    "plt.ylabel('Sensitivity \\n (True Positive Rate)', fontsize=18)\n",
    "plt.xlabel('1 - Specificity \\n (False Positive Rate)', fontsize=18)\n",
    "\n",
    "# Create legend.\n",
    "plt.legend(fontsize=16);"
   ]
  },
  {
   "cell_type": "code",
   "execution_count": 99,
   "metadata": {},
   "outputs": [
    {
     "data": {
      "text/plain": [
       "[('tvec',\n",
       "  TfidfVectorizer(analyzer='word', binary=False, decode_error='strict',\n",
       "                  dtype=<class 'numpy.float64'>, encoding='utf-8',\n",
       "                  input='content', lowercase=True, max_df=0.9, max_features=2500,\n",
       "                  min_df=2, ngram_range=(1, 1), norm='l2', preprocessor=None,\n",
       "                  smooth_idf=True, stop_words=None, strip_accents=None,\n",
       "                  sublinear_tf=False, token_pattern='(?u)\\\\b\\\\w\\\\w+\\\\b',\n",
       "                  tokenizer=None, use_idf=True, vocabulary=None)),\n",
       " ('nb', MultinomialNB(alpha=1.0, class_prior=None, fit_prior=True))]"
      ]
     },
     "execution_count": 99,
     "metadata": {},
     "output_type": "execute_result"
    }
   ],
   "source": [
    "gs_model_nb.steps"
   ]
  },
  {
   "cell_type": "code",
   "execution_count": 106,
   "metadata": {},
   "outputs": [],
   "source": [
    "cm_nb = confusion_matrix(y_test, predicted_test)\n",
    "tn, fp, fn, tp = cm_nb.ravel()"
   ]
  },
  {
   "cell_type": "code",
   "execution_count": 152,
   "metadata": {},
   "outputs": [
    {
     "data": {
      "text/html": [
       "<div>\n",
       "<style scoped>\n",
       "    .dataframe tbody tr th:only-of-type {\n",
       "        vertical-align: middle;\n",
       "    }\n",
       "\n",
       "    .dataframe tbody tr th {\n",
       "        vertical-align: top;\n",
       "    }\n",
       "\n",
       "    .dataframe thead th {\n",
       "        text-align: right;\n",
       "    }\n",
       "</style>\n",
       "<table border=\"1\" class=\"dataframe\">\n",
       "  <thead>\n",
       "    <tr style=\"text-align: right;\">\n",
       "      <th></th>\n",
       "      <th>predicted writing</th>\n",
       "      <th>predicted blogging</th>\n",
       "    </tr>\n",
       "  </thead>\n",
       "  <tbody>\n",
       "    <tr>\n",
       "      <th>actual writing</th>\n",
       "      <td>123</td>\n",
       "      <td>5</td>\n",
       "    </tr>\n",
       "    <tr>\n",
       "      <th>actual blogging</th>\n",
       "      <td>11</td>\n",
       "      <td>105</td>\n",
       "    </tr>\n",
       "  </tbody>\n",
       "</table>\n",
       "</div>"
      ],
      "text/plain": [
       "                 predicted writing  predicted blogging\n",
       "actual writing   123                5                 \n",
       "actual blogging  11                 105               "
      ]
     },
     "execution_count": 152,
     "metadata": {},
     "output_type": "execute_result"
    }
   ],
   "source": [
    "cm_df = pd.DataFrame(cm_nb, columns=['predicted writing', 'predicted blogging'], index=['actual writing', 'actual blogging'])\n",
    "cm_df"
   ]
  },
  {
   "cell_type": "code",
   "execution_count": 181,
   "metadata": {},
   "outputs": [
    {
     "data": {
      "text/plain": [
       "Int64Index([503, 449, 357, 387, 64, 372, 255, 200, 285, 111, 302], dtype='int64')"
      ]
     },
     "execution_count": 181,
     "metadata": {},
     "output_type": "execute_result"
    }
   ],
   "source": [
    "d = {'y_test': y_test, 'predicted_test': predicted_test,'difference':y_test-predicted_test}\n",
    "nb_compare = pd.DataFrame(data=d)\n",
    "nb_index_blogtowrite = nb_compare[nb_compare['difference']==1].index\n",
    "nb_index_blogtowrite"
   ]
  },
  {
   "cell_type": "code",
   "execution_count": 195,
   "metadata": {
    "scrolled": false
   },
   "outputs": [
    {
     "data": {
      "text/plain": [
       "503    So i have a cool intro about a post, it's basically two 3 line paragraphs, just a funnyintro of how i came up with my topic and how my idea was formulated, got some humour and style in there. And then after that I go straight into the answer highlighted in bold and everything (followed by all the rest). \\n\\nIf i optimize my meta description tag, can I do this with little worry? Will it negatively affect me? I've worked in short story writing and screenwriting as of recently so the beginning of my posts I always like to start with a dope ass quote relevant to my topic followed by small fun intro, and THEN go into the topic. Rather than just give the answer and be not as fun. If i optimize my meta description, can I have that slight freedom to be creative or no? My intro paragraph is literally two 3 line paragraphs. What y'all think?                                                                                                                                                                                                                                                                                                                                                                                                                                                                                                                                                                                                                                    \n",
       "449    Hi everyone - please delete if not allowed and apologies!\\n\\nI came up with this idea because I felt there was a gap in the market, I’ve decided to give it a go as a hobby while I am off work on furlough and to improve my writing skills. So I’m not expecting to make any money at this point. But my idea obviously we need an audience and some engagement so I want to get the blog out there. I am very nervous about it but I feel like I need to try. \\n\\nMy idea is a “Dear Annie” type of blog - I’m a Muslim woman who has grown up in the Middle East and now living in Europe with a wide variety of experiences and problems. I found it hard to speak to people throughout my life if my problems were too “scandalous” or private/embarrassing to discuss with friends and family. I hope it will be a way to help people who need a third party’s perspective and a way to point people to the right resources if applicable.\\n\\nI’m going to try to ask friends for general questions to get started (and maybe try online on reddit!) so I can create content. My issue is social media- i think will be fine I can post twitter and link to posts and relevant info, but how should I post things on Instagram? I want to avoid lame inspirational quotes over a sunset type pictures. I can make the questions into graphics but that won’t look great and will get boring I imagine.\\n\\nAny thoughts? I also welcome general advice to someone who is starting out! Thanks in advance!\n",
       "357    I want to join a community where writers: exchange ideas, give feedback to each other, suggest resources and tips over each other blogs and writings. I don't want to just post for readers I want to engage with fellow writers to learn and improve from them. Like it's mainly for posting blogs not like this subreddit, question tips and stuff like that.                                                                                                                                                                                                                                                                                                                                                                                                                                                                                                                                                                                                                                                                                                                                                                                                                                                                                                                                                                                                                                                                                                                                                \n",
       "387    As stated in the title, would this be too many topics for one blog? \\n\\nI'm really struggling with a Blog title that might span all 3.                                                                                                                                                                                                                                                                                                                                                                                                                                                                                                                                                                                                                                                                                                                                                                                                                                                                                                                                                                                                                                                                                                                                                                                                                                                                                                                                                                         \n",
       "64     Might be a silly question but what if somebody’s safety was compromised because they went to a place you recommended on your blog? Can they actually hold you responsible for that?                                                                                                                                                                                                                                                                                                                                                                                                                                                                                                                                                                                                                                                                                                                                                                                                                                                                                                                                                                                                                                                                                                                                                                                                                                                                                                                            \n",
       "372    Hi everyone, I hope you are well!\\n\\nI have recently decided to post more often but I'm starting to run out of things to blog about. How do you come up with ideas? I would love to know!\\n\\nThanks!                                                                                                                                                                                                                                                                                                                                                                                                                                                                                                                                                                                                                                                                                                                                                                                                                                                                                                                                                                                                                                                                                                                                                                                                                                                                                                           \n",
       "255    I am having difficulty on how to organize my pages and I don't understand yet how subcategories work for categories. and also tags. \\n\\nI plan to blog about books and film reviews and include some personal thoughts and freewrittten poems or essays. Might include my own short stories.\\n\\n\\nPS.\\nHow many categories and subcategories is too much normally for a blog?                                                                                                                                                                                                                                                                                                                                                                                                                                                                                                                                                                                                                                                                                                                                                                                                                                                                                                                                                                                                                                                                                                                                  \n",
       "Name: selftext, dtype: object"
      ]
     },
     "execution_count": 195,
     "metadata": {},
     "output_type": "execute_result"
    }
   ],
   "source": [
    "# Misclassified from Blogging (Original) to Writing (Predicted)\n",
    "df.iloc[nb_index_blogtowrite,:]['selftext'][:7]"
   ]
  },
  {
   "cell_type": "code",
   "execution_count": 184,
   "metadata": {},
   "outputs": [
    {
     "data": {
      "text/plain": [
       "Int64Index([599, 256, 465, 190, 35], dtype='int64')"
      ]
     },
     "execution_count": 184,
     "metadata": {},
     "output_type": "execute_result"
    }
   ],
   "source": [
    "nb_index_writetoblog = nb_compare[nb_compare['difference']==-1].index\n",
    "nb_index_writetoblog"
   ]
  },
  {
   "cell_type": "code",
   "execution_count": 191,
   "metadata": {},
   "outputs": [
    {
     "data": {
      "text/plain": [
       "21     Don't get me wrong, I do love them. It must be all of the imagination needed to keep the chorography straight in my head.\\n\\nAnyone else have something about writing that takes a lot out of them? How do you push through?                                                                                                                                                                                                                                                                                                                                                                                                                                                                                                                                                                                                                                                                                                                                                                                                                                                                                                                                                    \n",
       "256    I ha e been wanting to try starting a blog for a few different reasons. One I really interested learning the aspects of seo and digital media marketing. Trying out affiliate  marketing. Possibly learning how to make money online. Overall I feel like it would be a really fun and interesting thing to do. I just really want to try it out.\\n\\nHowever, when trying to decide on a cohesive theme I feel a bit lost. I am interested in many different things. However, I assume if you are trying to learn about marketing and building a blog you should pick a general overall theme for your blog. So it is not all over the place. Or would it be OK to go into many different topics such as, health and fitness, beauty, photography, marketing, finance, etc. Or is that too much? Saw this great YouTube video where this girl made the tip that people don't care about you, they care about themselves. So make content that is going to interest and help them. \\n\\nAny thoughts? How did you, or do you set up your blog? In terms of balancing your interests, but also not going so narrow as to run out of things to talk about? \\n\\nThank you in advance!\n",
       "465    I am so happy I have this plugin.. it gave me some insight on what I was missing in my posts and helped give me some guidance on it! \\n\\nAnyone else have any good tips for plugins that would help boost posts?? \\n\\nI’m using the free option right now but thinking I’m going to purchase the premium version too.                                                                                                                                                                                                                                                                                                                                                                                                                                                                                                                                                                                                                                                                                                                                                                                                                                                           \n",
       "190    Just curious how all of y’all are doing with adsense. And what is the max earning potential of it.                                                                                                                                                                                                                                                                                                                                                                                                                                                                                                                                                                                                                                                                                                                                                                                                                                                                                                                                                                                                                                                                              \n",
       "35     Comments are betting than the actual posts                                                                                                                                                                                                                                                                                                                                                                                                                                                                                                                                                                                                                                                                                                                                                                                                                                                                                                                                                                                                                                                                                                                                      \n",
       "Name: selftext, dtype: object"
      ]
     },
     "execution_count": 191,
     "metadata": {},
     "output_type": "execute_result"
    }
   ],
   "source": [
    "# Misclassified from Writing (Original) to Blogging (Predicted)\n",
    "df.iloc[nb_index_writetoblog,:]['selftext']"
   ]
  },
  {
   "cell_type": "markdown",
   "metadata": {},
   "source": [
    "**Observations**\n",
    "- Misclassified posts mainly due to short posts and ambiguous posts (it would be ambiguous after removing stopwords'\n",
    "- Other misclassfied posts could be due to users posting in the wrong subreddit groups\n",
    "    - ie. #255 (blogger not able to organise his posts into categories) --> appears to be writing related\n",
    "    - ie. #256 (writer trying to start a blog that aims to be money generating) --> appears to be blogging related"
   ]
  },
  {
   "cell_type": "code",
   "execution_count": 108,
   "metadata": {},
   "outputs": [],
   "source": [
    " (def confusion(cm):\n",
    "    tn, fp, fn, tp = cm.ravel()\n",
    "    spec = round(tn / (tn + fp),4)\n",
    "    sens = round(tp / (tp + fn),4)\n",
    "    acc = round((tp+tn) / (tp+fn+tn+fp),4)\n",
    "    return spec,sens,acc"
   ]
  },
  {
   "cell_type": "code",
   "execution_count": 109,
   "metadata": {},
   "outputs": [],
   "source": [
    "cm_lr_array = confusion(cm_lr)\n",
    "cm_nb_array = confusion(cm_nb)"
   ]
  },
  {
   "cell_type": "code",
   "execution_count": 110,
   "metadata": {},
   "outputs": [
    {
     "data": {
      "text/plain": [
       "(0.9297, 0.931, 0.9303)"
      ]
     },
     "execution_count": 110,
     "metadata": {},
     "output_type": "execute_result"
    }
   ],
   "source": [
    "cm_lr_array"
   ]
  },
  {
   "cell_type": "code",
   "execution_count": 111,
   "metadata": {
    "scrolled": true
   },
   "outputs": [
    {
     "data": {
      "text/plain": [
       "(0.9609, 0.9052, 0.9344)"
      ]
     },
     "execution_count": 111,
     "metadata": {},
     "output_type": "execute_result"
    }
   ],
   "source": [
    "cm_nb_array"
   ]
  },
  {
   "cell_type": "code",
   "execution_count": 112,
   "metadata": {},
   "outputs": [],
   "source": [
    "cm_df_all = pd.DataFrame(cm_lr_array).T\n",
    "cm_df_all.columns=['Specificity','Sensitivity','Accuracy']\n",
    "cm_df_all.index=['Logistic Regression Model']\n",
    "cm_nb_df = pd.DataFrame(cm_nb_array).T\n",
    "cm_nb_df.columns=['Specificity','Sensitivity','Accuracy']\n",
    "cm_nb_df.index=['Naive-Bayes Regression']"
   ]
  },
  {
   "cell_type": "code",
   "execution_count": 149,
   "metadata": {},
   "outputs": [
    {
     "data": {
      "text/html": [
       "<div>\n",
       "<style scoped>\n",
       "    .dataframe tbody tr th:only-of-type {\n",
       "        vertical-align: middle;\n",
       "    }\n",
       "\n",
       "    .dataframe tbody tr th {\n",
       "        vertical-align: top;\n",
       "    }\n",
       "\n",
       "    .dataframe thead th {\n",
       "        text-align: right;\n",
       "    }\n",
       "</style>\n",
       "<table border=\"1\" class=\"dataframe\">\n",
       "  <thead>\n",
       "    <tr style=\"text-align: right;\">\n",
       "      <th></th>\n",
       "      <th>Specificity</th>\n",
       "      <th>Sensitivity</th>\n",
       "      <th>Accuracy</th>\n",
       "      <th>ROC</th>\n",
       "    </tr>\n",
       "  </thead>\n",
       "  <tbody>\n",
       "    <tr>\n",
       "      <th>Logistic Regression Model</th>\n",
       "      <td>0.9297</td>\n",
       "      <td>0.931</td>\n",
       "      <td>0.9303</td>\n",
       "      <td>0.984173</td>\n",
       "    </tr>\n",
       "  </tbody>\n",
       "</table>\n",
       "</div>"
      ],
      "text/plain": [
       "                           Specificity  Sensitivity  Accuracy       ROC\n",
       "Logistic Regression Model  0.9297       0.931        0.9303    0.984173"
      ]
     },
     "execution_count": 149,
     "metadata": {},
     "output_type": "execute_result"
    }
   ],
   "source": [
    "cm_df_all['ROC'] = lr_roc\n",
    "cm_df_all"
   ]
  },
  {
   "cell_type": "code",
   "execution_count": 150,
   "metadata": {},
   "outputs": [
    {
     "data": {
      "text/html": [
       "<div>\n",
       "<style scoped>\n",
       "    .dataframe tbody tr th:only-of-type {\n",
       "        vertical-align: middle;\n",
       "    }\n",
       "\n",
       "    .dataframe tbody tr th {\n",
       "        vertical-align: top;\n",
       "    }\n",
       "\n",
       "    .dataframe thead th {\n",
       "        text-align: right;\n",
       "    }\n",
       "</style>\n",
       "<table border=\"1\" class=\"dataframe\">\n",
       "  <thead>\n",
       "    <tr style=\"text-align: right;\">\n",
       "      <th></th>\n",
       "      <th>Specificity</th>\n",
       "      <th>Sensitivity</th>\n",
       "      <th>Accuracy</th>\n",
       "      <th>ROC</th>\n",
       "    </tr>\n",
       "  </thead>\n",
       "  <tbody>\n",
       "    <tr>\n",
       "      <th>Naive-Bayes Regression</th>\n",
       "      <td>0.9609</td>\n",
       "      <td>0.9052</td>\n",
       "      <td>0.9344</td>\n",
       "      <td>0.987742</td>\n",
       "    </tr>\n",
       "  </tbody>\n",
       "</table>\n",
       "</div>"
      ],
      "text/plain": [
       "                        Specificity  Sensitivity  Accuracy       ROC\n",
       "Naive-Bayes Regression  0.9609       0.9052       0.9344    0.987742"
      ]
     },
     "execution_count": 150,
     "metadata": {},
     "output_type": "execute_result"
    }
   ],
   "source": [
    "cm_nb_df['ROC']=nb_roc\n",
    "cm_nb_df"
   ]
  },
  {
   "cell_type": "markdown",
   "metadata": {},
   "source": [
    "# Model Summary"
   ]
  },
  {
   "cell_type": "code",
   "execution_count": 142,
   "metadata": {},
   "outputs": [
    {
     "data": {
      "text/html": [
       "<style>\n",
       "table {float:left}\n",
       "</style>\n"
      ],
      "text/plain": [
       "<IPython.core.display.HTML object>"
      ]
     },
     "metadata": {},
     "output_type": "display_data"
    }
   ],
   "source": [
    "%%html\n",
    "<style>\n",
    "table {float:left}\n",
    "</style>"
   ]
  },
  {
   "cell_type": "code",
   "execution_count": 151,
   "metadata": {},
   "outputs": [
    {
     "data": {
      "text/html": [
       "<div>\n",
       "<style scoped>\n",
       "    .dataframe tbody tr th:only-of-type {\n",
       "        vertical-align: middle;\n",
       "    }\n",
       "\n",
       "    .dataframe tbody tr th {\n",
       "        vertical-align: top;\n",
       "    }\n",
       "\n",
       "    .dataframe thead th {\n",
       "        text-align: right;\n",
       "    }\n",
       "</style>\n",
       "<table border=\"1\" class=\"dataframe\">\n",
       "  <thead>\n",
       "    <tr style=\"text-align: right;\">\n",
       "      <th></th>\n",
       "      <th>Specificity</th>\n",
       "      <th>Sensitivity</th>\n",
       "      <th>Accuracy</th>\n",
       "      <th>ROC</th>\n",
       "    </tr>\n",
       "  </thead>\n",
       "  <tbody>\n",
       "    <tr>\n",
       "      <th>Logistic Regression Model</th>\n",
       "      <td>0.9297</td>\n",
       "      <td>0.9310</td>\n",
       "      <td>0.9303</td>\n",
       "      <td>0.984173</td>\n",
       "    </tr>\n",
       "    <tr>\n",
       "      <th>Naive-Bayes Regression</th>\n",
       "      <td>0.9609</td>\n",
       "      <td>0.9052</td>\n",
       "      <td>0.9344</td>\n",
       "      <td>0.987742</td>\n",
       "    </tr>\n",
       "  </tbody>\n",
       "</table>\n",
       "</div>"
      ],
      "text/plain": [
       "                           Specificity  Sensitivity  Accuracy       ROC\n",
       "Logistic Regression Model  0.9297       0.9310       0.9303    0.984173\n",
       "Naive-Bayes Regression     0.9609       0.9052       0.9344    0.987742"
      ]
     },
     "execution_count": 151,
     "metadata": {},
     "output_type": "execute_result"
    }
   ],
   "source": [
    "cm_df_all.append(cm_nb_df)"
   ]
  },
  {
   "cell_type": "markdown",
   "metadata": {},
   "source": [
    "|Model|Train|Test|Best Score|\n",
    "|---|---|---|---|\n",
    "|**Logistic Regression**|**0.9866**|**0.9303**|**0.9416**|\n",
    "|Naive-Bayes|0.9723|0.9344|0.9406|\n"
   ]
  },
  {
   "cell_type": "markdown",
   "metadata": {},
   "source": [
    "- For Logistic Regression and Naive-Bayes model, both models performed largely the same in accuracy.\n",
    "- In terms of performance for model predictability, both also performed largely the same, though Logistic Regression has a marginally higher score. \n",
    "- Both models are overfitted, but this is due to the nature of our Natural Language Processing experiment. \n",
    "- Naives Bayes model far exceeded Logistic Regression model for Specificity metric. \n",
    "- However, Logistic Regression performed better in terms of Sensitivity metric."
   ]
  },
  {
   "cell_type": "markdown",
   "metadata": {},
   "source": [
    "# Model Testing"
   ]
  },
  {
   "cell_type": "code",
   "execution_count": 114,
   "metadata": {},
   "outputs": [],
   "source": [
    "str_list = []\n",
    "def test_text(text):\n",
    "    text = str(text)\n",
    "    str_list.append(text)\n",
    "    return str_list"
   ]
  },
  {
   "cell_type": "code",
   "execution_count": 115,
   "metadata": {},
   "outputs": [
    {
     "data": {
      "text/plain": [
       "7"
      ]
     },
     "execution_count": 115,
     "metadata": {},
     "output_type": "execute_result"
    }
   ],
   "source": [
    "# Random post from Writing subreddit\n",
    "s1 = \"I am having a very hard time managing my writings lately. No, it's not like I don't know how to show or not to tell; but it is the amount I want to show and not tell.My previous writings were first-person POV like most of the beginners. It is extremely easy to fill all those showing parts describing characters' gestures, thoughts, or even monologues. It was extremely easy to immerse the reader into the plot. Well, it was in my case at least.Now, I am writing a third-person limited POV cause I got fascinated by the writings of George RR Martin. The way he juggled between different characters' perspectives, the shift of attention to the very next character was beautiful and frightening at the same time. For those who do not know what is third-person limited POV, it is the third-person POV but you get to see from the POV of a single character in a scene, which is quite different from omniscient where you get to know all the character and plot at the same time.Back to my problem, I don't know whether I should tell what the character (in light) thinks, or simply show the gestures and dialogues. Should I include any monologues or not, I am even having a hard time making the settings more serious and give it more weight. What should I do?\"\n",
    "test_text(s1)\n",
    "\n",
    "# Random post from Writing subreddit\n",
    "s2 = \"Agh I’ve always struggled with adding description in to my pieces of writing, like I know I need to add them, but I just never seem to write them! Most of my scenes will end up filled with short sentences describing mostly actions and thoughts but nothing else! Does anyone know any tips or advice on how to make sure you’re adding enough description/how to add description Anything would be appreciated!!! :)\"\n",
    "test_text(s2)\n",
    "\n",
    "# Random post from Blogging subreddit\n",
    "s3 = \"I know it is impossible to get rid of copycats, and we all borrow information from someone else's work here and there, so none of us is entirely innocent.But how do you deal with situations in which you spend hours, if not days, to do research, verify the validity of the information you plan to claim/provide, research on keywords, write your articles carefully, do editing, etc. just to find out a few minutes after you post your work that someone else has simply copy-pasted yours to theirs? Some copycats do put in some work by paraphrasing the text to avoid Google's ranking penalties, but even so, having all the information available for you to paraphrase takes a lot less time and effort than doing the work yourself.\"\n",
    "test_text(s3)\n",
    "\n",
    "# Random post from Blogging subreddit\n",
    "s4 = \"Hello, we made it to month two of my second site. I am noticing a bit of traction both in terms of organic impressions as well as a few clicks. I've also been lucky to make a few sales already but that is because of my posting on Reddit within my niche (the group allows links if done correctly)I didn't make any money this month, but I did make 2 sales on the very last day. However, I won't get commission until the item ships so that will be in next month's report. I think it will probably be a couple of dollars.\"\n",
    "test_text(s4)\n",
    "\n",
    "# My test post: It should be classified as blogging.\n",
    "s5 = \"I am currently starting a blog on Cooking, sharing recipes about Korean cuisine with the public. I am very inspired by maangchi and her success. However, I have really bad english and I have trouble writing, and I am afraid that it will tarnish the reputation for my blog. Do you have any tips on how to write better? Do you think writing is important to the success of my blog? How do you think I can better promote and monetise my blog? Thank you.\"\n",
    "test_text(s5)\n",
    "\n",
    "# My test post: Similar as before but modified.\n",
    "s6 = 'Hello everyone, I am currently starting a Blog dedicated to teaching the mass about Korean Cuisine. My main inspiration was from Maangchi. I would like to hear from everyone regarding tips and tricks to promote my blog, and monetise it as well. Currently, my blog has very low traffic (about 2 per day on average). I hope to hear from everyone how you optimise the search engine and promote your blog. Also, I hope to hear from you regarding writing styles. I am a native Korean who is not strong in English. Do you think it will have a negative impact on my blog?'\n",
    "test_text(s6)\n",
    "\n",
    "# Another trial text.\n",
    "s7 = 'Hey all, I am starting a blog to write about marketing technology. May I learn of writing techniques where I will be able to capture the eyes of my audience in seconds? What would be eye catching? I also have issues with starting my content in the body text, and I am unsure how to maximise SEO by crafting my title smartly. Please help, thanks'\n",
    "test_text(s7)\n",
    "len(str_list)"
   ]
  },
  {
   "cell_type": "code",
   "execution_count": 116,
   "metadata": {},
   "outputs": [
    {
     "data": {
      "text/plain": [
       "array([0, 0, 1, 1, 1, 1, 1])"
      ]
     },
     "execution_count": 116,
     "metadata": {},
     "output_type": "execute_result"
    }
   ],
   "source": [
    "test_text_predict_lr = gs_model_lr.predict(str_list)\n",
    "test_text_predict_lr"
   ]
  },
  {
   "cell_type": "code",
   "execution_count": 117,
   "metadata": {},
   "outputs": [
    {
     "data": {
      "text/plain": [
       "array([0, 0, 1, 1, 0, 1, 1])"
      ]
     },
     "execution_count": 117,
     "metadata": {},
     "output_type": "execute_result"
    }
   ],
   "source": [
    "test_text_predict_nb = gs_model_nb.predict(str_list)\n",
    "test_text_predict_nb"
   ]
  },
  {
   "cell_type": "code",
   "execution_count": 118,
   "metadata": {},
   "outputs": [
    {
     "data": {
      "text/html": [
       "<div>\n",
       "<style scoped>\n",
       "    .dataframe tbody tr th:only-of-type {\n",
       "        vertical-align: middle;\n",
       "    }\n",
       "\n",
       "    .dataframe tbody tr th {\n",
       "        vertical-align: top;\n",
       "    }\n",
       "\n",
       "    .dataframe thead th {\n",
       "        text-align: right;\n",
       "    }\n",
       "</style>\n",
       "<table border=\"1\" class=\"dataframe\">\n",
       "  <thead>\n",
       "    <tr style=\"text-align: right;\">\n",
       "      <th></th>\n",
       "      <th>Text</th>\n",
       "      <th>True Label</th>\n",
       "      <th>Predicted Label (LR)</th>\n",
       "      <th>Predicted Label (NB)</th>\n",
       "    </tr>\n",
       "  </thead>\n",
       "  <tbody>\n",
       "    <tr>\n",
       "      <th>0</th>\n",
       "      <td>I am having a very hard time managing my writings lately. No, it's not like I don't know how to show or not to tell; but it is the amount I want to show and not tell.My previous writings were first-person POV like most of the beginners. It is extremely easy to fill all those showing parts describing characters' gestures, thoughts, or even monologues. It was extremely easy to immerse the reader into the plot. Well, it was in my case at least.Now, I am writing a third-person limited POV cause I got fascinated by the writings of George RR Martin. The way he juggled between different characters' perspectives, the shift of attention to the very next character was beautiful and frightening at the same time. For those who do not know what is third-person limited POV, it is the third-person POV but you get to see from the POV of a single character in a scene, which is quite different from omniscient where you get to know all the character and plot at the same time.Back to my problem, I don't know whether I should tell what the character (in light) thinks, or simply show the gestures and dialogues. Should I include any monologues or not, I am even having a hard time making the settings more serious and give it more weight. What should I do?</td>\n",
       "      <td>0</td>\n",
       "      <td>0</td>\n",
       "      <td>0</td>\n",
       "    </tr>\n",
       "    <tr>\n",
       "      <th>1</th>\n",
       "      <td>Agh I’ve always struggled with adding description in to my pieces of writing, like I know I need to add them, but I just never seem to write them! Most of my scenes will end up filled with short sentences describing mostly actions and thoughts but nothing else! Does anyone know any tips or advice on how to make sure you’re adding enough description/how to add description Anything would be appreciated!!! :)</td>\n",
       "      <td>0</td>\n",
       "      <td>0</td>\n",
       "      <td>0</td>\n",
       "    </tr>\n",
       "    <tr>\n",
       "      <th>2</th>\n",
       "      <td>I know it is impossible to get rid of copycats, and we all borrow information from someone else's work here and there, so none of us is entirely innocent.But how do you deal with situations in which you spend hours, if not days, to do research, verify the validity of the information you plan to claim/provide, research on keywords, write your articles carefully, do editing, etc. just to find out a few minutes after you post your work that someone else has simply copy-pasted yours to theirs? Some copycats do put in some work by paraphrasing the text to avoid Google's ranking penalties, but even so, having all the information available for you to paraphrase takes a lot less time and effort than doing the work yourself.</td>\n",
       "      <td>1</td>\n",
       "      <td>1</td>\n",
       "      <td>1</td>\n",
       "    </tr>\n",
       "    <tr>\n",
       "      <th>3</th>\n",
       "      <td>Hello, we made it to month two of my second site. I am noticing a bit of traction both in terms of organic impressions as well as a few clicks. I've also been lucky to make a few sales already but that is because of my posting on Reddit within my niche (the group allows links if done correctly)I didn't make any money this month, but I did make 2 sales on the very last day. However, I won't get commission until the item ships so that will be in next month's report. I think it will probably be a couple of dollars.</td>\n",
       "      <td>1</td>\n",
       "      <td>1</td>\n",
       "      <td>1</td>\n",
       "    </tr>\n",
       "    <tr>\n",
       "      <th>4</th>\n",
       "      <td>I am currently starting a blog on Cooking, sharing recipes about Korean cuisine with the public. I am very inspired by maangchi and her success. However, I have really bad english and I have trouble writing, and I am afraid that it will tarnish the reputation for my blog. Do you have any tips on how to write better? Do you think writing is important to the success of my blog? How do you think I can better promote and monetise my blog? Thank you.</td>\n",
       "      <td>1</td>\n",
       "      <td>1</td>\n",
       "      <td>0</td>\n",
       "    </tr>\n",
       "    <tr>\n",
       "      <th>5</th>\n",
       "      <td>Hello everyone, I am currently starting a Blog dedicated to teaching the mass about Korean Cuisine. My main inspiration was from Maangchi. I would like to hear from everyone regarding tips and tricks to promote my blog, and monetise it as well. Currently, my blog has very low traffic (about 2 per day on average). I hope to hear from everyone how you optimise the search engine and promote your blog. Also, I hope to hear from you regarding writing styles. I am a native Korean who is not strong in English. Do you think it will have a negative impact on my blog?</td>\n",
       "      <td>1</td>\n",
       "      <td>1</td>\n",
       "      <td>1</td>\n",
       "    </tr>\n",
       "    <tr>\n",
       "      <th>6</th>\n",
       "      <td>Hey all, I am starting a blog to write about marketing technology. May I learn of writing techniques where I will be able to capture the eyes of my audience in seconds? What would be eye catching? I also have issues with starting my content in the body text, and I am unsure how to maximise SEO by crafting my title smartly. Please help, thanks</td>\n",
       "      <td>1</td>\n",
       "      <td>1</td>\n",
       "      <td>1</td>\n",
       "    </tr>\n",
       "  </tbody>\n",
       "</table>\n",
       "</div>"
      ],
      "text/plain": [
       "                                                                                                                                                                                                                                                                                                                                                                                                                                                                                                                                                                                                                                                                                                                                                                                                                                                                                                                                                                                                                                                                                                                                                                                                                                                                                                  Text  \\\n",
       "0  I am having a very hard time managing my writings lately. No, it's not like I don't know how to show or not to tell; but it is the amount I want to show and not tell.My previous writings were first-person POV like most of the beginners. It is extremely easy to fill all those showing parts describing characters' gestures, thoughts, or even monologues. It was extremely easy to immerse the reader into the plot. Well, it was in my case at least.Now, I am writing a third-person limited POV cause I got fascinated by the writings of George RR Martin. The way he juggled between different characters' perspectives, the shift of attention to the very next character was beautiful and frightening at the same time. For those who do not know what is third-person limited POV, it is the third-person POV but you get to see from the POV of a single character in a scene, which is quite different from omniscient where you get to know all the character and plot at the same time.Back to my problem, I don't know whether I should tell what the character (in light) thinks, or simply show the gestures and dialogues. Should I include any monologues or not, I am even having a hard time making the settings more serious and give it more weight. What should I do?   \n",
       "1  Agh I’ve always struggled with adding description in to my pieces of writing, like I know I need to add them, but I just never seem to write them! Most of my scenes will end up filled with short sentences describing mostly actions and thoughts but nothing else! Does anyone know any tips or advice on how to make sure you’re adding enough description/how to add description Anything would be appreciated!!! :)                                                                                                                                                                                                                                                                                                                                                                                                                                                                                                                                                                                                                                                                                                                                                                                                                                                                             \n",
       "2  I know it is impossible to get rid of copycats, and we all borrow information from someone else's work here and there, so none of us is entirely innocent.But how do you deal with situations in which you spend hours, if not days, to do research, verify the validity of the information you plan to claim/provide, research on keywords, write your articles carefully, do editing, etc. just to find out a few minutes after you post your work that someone else has simply copy-pasted yours to theirs? Some copycats do put in some work by paraphrasing the text to avoid Google's ranking penalties, but even so, having all the information available for you to paraphrase takes a lot less time and effort than doing the work yourself.                                                                                                                                                                                                                                                                                                                                                                                                                                                                                                                                                 \n",
       "3  Hello, we made it to month two of my second site. I am noticing a bit of traction both in terms of organic impressions as well as a few clicks. I've also been lucky to make a few sales already but that is because of my posting on Reddit within my niche (the group allows links if done correctly)I didn't make any money this month, but I did make 2 sales on the very last day. However, I won't get commission until the item ships so that will be in next month's report. I think it will probably be a couple of dollars.                                                                                                                                                                                                                                                                                                                                                                                                                                                                                                                                                                                                                                                                                                                                                                 \n",
       "4  I am currently starting a blog on Cooking, sharing recipes about Korean cuisine with the public. I am very inspired by maangchi and her success. However, I have really bad english and I have trouble writing, and I am afraid that it will tarnish the reputation for my blog. Do you have any tips on how to write better? Do you think writing is important to the success of my blog? How do you think I can better promote and monetise my blog? Thank you.                                                                                                                                                                                                                                                                                                                                                                                                                                                                                                                                                                                                                                                                                                                                                                                                                                     \n",
       "5  Hello everyone, I am currently starting a Blog dedicated to teaching the mass about Korean Cuisine. My main inspiration was from Maangchi. I would like to hear from everyone regarding tips and tricks to promote my blog, and monetise it as well. Currently, my blog has very low traffic (about 2 per day on average). I hope to hear from everyone how you optimise the search engine and promote your blog. Also, I hope to hear from you regarding writing styles. I am a native Korean who is not strong in English. Do you think it will have a negative impact on my blog?                                                                                                                                                                                                                                                                                                                                                                                                                                                                                                                                                                                                                                                                                                                  \n",
       "6  Hey all, I am starting a blog to write about marketing technology. May I learn of writing techniques where I will be able to capture the eyes of my audience in seconds? What would be eye catching? I also have issues with starting my content in the body text, and I am unsure how to maximise SEO by crafting my title smartly. Please help, thanks                                                                                                                                                                                                                                                                                                                                                                                                                                                                                                                                                                                                                                                                                                                                                                                                                                                                                                                                              \n",
       "\n",
       "   True Label  Predicted Label (LR)  Predicted Label (NB)  \n",
       "0  0           0                     0                     \n",
       "1  0           0                     0                     \n",
       "2  1           1                     1                     \n",
       "3  1           1                     1                     \n",
       "4  1           1                     0                     \n",
       "5  1           1                     1                     \n",
       "6  1           1                     1                     "
      ]
     },
     "execution_count": 118,
     "metadata": {},
     "output_type": "execute_result"
    }
   ],
   "source": [
    "true_label = list([0,0,1,1,1,1,1])\n",
    "pd.DataFrame({'Text' : str_list,\n",
    "              'True Label' : true_label,\n",
    "              'Predicted Label (LR)' : test_text_predict_lr,\n",
    "             'Predicted Label (NB)':test_text_predict_nb }, \n",
    "                                columns=['Text','True Label', 'Predicted Label (LR)','Predicted Label (NB)'])"
   ]
  },
  {
   "cell_type": "markdown",
   "metadata": {},
   "source": [
    "# Conclusion"
   ]
  },
  {
   "cell_type": "markdown",
   "metadata": {},
   "source": [
    "In conclusion, we are rather indifferent about both the Naive Bayes model or the Logistic Regression model in classifying our subreddit posts.\n",
    "- Both models have achieved a similar accuracy scores, despite having differences in other metrics that we have identified. \n",
    "- ROC curve also shown that Naive-Bayes and Logistic Regression is largely similar in performance. \n",
    "\n",
    "### Limitations\n",
    "- As I could only scrape approximately 500-600 posts per subreddit, I believe our model could be more accurate if we increase the number of posts in our training dataset so that the model can learn more through existing data. This has certainly inhibited part of the success of our model. \n",
    "\n",
    "### Other useful information\n",
    "- Overall sentiments for the Writing subreddit tend to be slightly lower than Blogging subreddit. However, both subreddit has a positive sentiment to it. \n",
    "- This could be attributed to the level of 'professionalism' displayed in the Blogging subreddit. On the other hand, the Writing subreddit appears to be a community where writers post about their struggles and seek help. Hence, this could have pulled down our overall sentiment for Writing subreddit. \n",
    "\n",
    "### Project Extension/Further Research\n",
    "**Agenda:** To help our blogging clients to optimise their subreddit posts to maximise probability for increased views, upvotes and comments. \n",
    "- To conduct predictive analytics on posts vs. number of comments and number of upvotes\n",
    "- To scrape subreddit post comments and analyse sentiments."
   ]
  }
 ],
 "metadata": {
  "kernelspec": {
   "display_name": "Python 3",
   "language": "python",
   "name": "python3"
  },
  "language_info": {
   "codemirror_mode": {
    "name": "ipython",
    "version": 3
   },
   "file_extension": ".py",
   "mimetype": "text/x-python",
   "name": "python",
   "nbconvert_exporter": "python",
   "pygments_lexer": "ipython3",
   "version": "3.7.6"
  }
 },
 "nbformat": 4,
 "nbformat_minor": 4
}
